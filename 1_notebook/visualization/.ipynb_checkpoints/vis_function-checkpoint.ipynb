{
 "cells": [
  {
   "cell_type": "code",
   "execution_count": 1,
   "id": "83ed82a8",
   "metadata": {},
   "outputs": [
    {
     "name": "stderr",
     "output_type": "stream",
     "text": [
      "C:\\Users\\ghdau\\AppData\\Roaming\\Python\\Python38\\site-packages\\scipy\\__init__.py:138: UserWarning: A NumPy version >=1.16.5 and <1.23.0 is required for this version of SciPy (detected version 1.24.4)\n",
      "  warnings.warn(f\"A NumPy version >={np_minversion} and <{np_maxversion} is required for this version of \"\n"
     ]
    },
    {
     "name": "stdout",
     "output_type": "stream",
     "text": [
      "C:\\Users\\ghdau\\Desktop\\real_estate_dashboard\n"
     ]
    }
   ],
   "source": [
    "import pandas as pd\n",
    "import os\n",
    "import geopandas as gpd\n",
    "import glob\n",
    "import folium\n",
    "import json\n",
    "import math\n",
    "import numpy as np\n",
    "import json\n",
    "import requests\n",
    "import seaborn as sns\n",
    "import matplotlib.pyplot as plt\n",
    "\n",
    "# interactive 한 작동을 위해\n",
    "import plotly.express as px\n",
    "import plotly.graph_objects as go\n",
    "from plotly.validators.scatter.marker import SymbolValidator\n",
    "import mplcursors\n",
    "\n",
    "#경고 없애주기\n",
    "import warnings\n",
    "warnings.filterwarnings('ignore')\n",
    "\n",
    "%matplotlib inline\n",
    "\n",
    "# os.chdir(\"/home/ubuntu/real_estate_dashboard\")\n",
    "\n",
    "# 윈도우즈 경로\n",
    "windows_path = r'C:\\Users\\ghdau\\Desktop\\real_estate_dashboard'\n",
    "\n",
    "# 리눅스 경로로 변환\n",
    "linux_path = windows_path.replace('\\\\', '/')\n",
    "\n",
    "# 작업 디렉토리 변경\n",
    "os.chdir(linux_path)\n",
    "\n",
    "# 한글 폰트 문제 해결\n",
    "from matplotlib import font_manager, rc\n",
    "font_path = \"C:/Windows/Fonts/NGULIM.TTF\"\n",
    "font = font_manager.FontProperties(fname=font_path).get_name()\n",
    "rc('font', family=font)\n",
    "\n",
    "print(os.getcwd())"
   ]
  },
  {
   "cell_type": "markdown",
   "id": "40601845",
   "metadata": {},
   "source": [
    "### 데이터 불러오기"
   ]
  },
  {
   "cell_type": "code",
   "execution_count": 2,
   "id": "c31e36e2",
   "metadata": {},
   "outputs": [],
   "source": [
    "# 법정동코드\n",
    "legal_info_b = pd.read_csv(\"0_data/legal_info_b.csv\")\n",
    "legal_info_b = legal_info_b.astype({'법정동코드':'str',\n",
    "  '법정동시군구코드':'str',\n",
    "  '법정동읍면동코드':'str'})"
   ]
  },
  {
   "cell_type": "code",
   "execution_count": 3,
   "id": "214a232b",
   "metadata": {},
   "outputs": [],
   "source": [
    "# 아파트 매매 실거래\n",
    "apt_trade = pd.read_csv(\"0_data/cleaning/apt_trade.csv\",\n",
    "                        dtype = {'법정동코드':str},\n",
    "                        thousands=r',')\n",
    "# 아파트 전월세 \n",
    "apt_rent = pd.read_csv(\"0_data/cleaning/apt_rent.csv\",\n",
    "                       dtype = {'법정동코드':str}\n",
    "                       ,thousands=r',')\n",
    "\n",
    "# 오피스텔 매매 실거래\n",
    "offi_trade = pd.read_csv(\"0_data/cleaning/offi_trade.csv\",\n",
    "                        dtype = {'법정동코드':str}\n",
    "                       ,thousands=r',')\n",
    "# 오피스텔 전월세\n",
    "offi_rent = pd.read_csv(\"0_data/cleaning/offi_rent.csv\",\n",
    "                        dtype = {'법정동코드':str}\n",
    "                       ,thousands=r',')"
   ]
  },
  {
   "cell_type": "code",
   "execution_count": 4,
   "id": "c631d42c",
   "metadata": {},
   "outputs": [],
   "source": [
    "# 도시 공원\n",
    "public_park = pd.read_csv('0_data/public_city_park/public_city_park.csv')\n",
    "\n",
    "# 초등학교\n",
    "elementary_school = pd.read_csv('0_data/school/elementary_school.csv')\n",
    "# 중학교\n",
    "middle_school = pd.read_csv('0_data/school/middle_school.csv')\n",
    "# 고등학교\n",
    "high_school = pd.read_csv('0_data/school/high_school.csv')"
   ]
  },
  {
   "cell_type": "code",
   "execution_count": 5,
   "id": "abc77d31",
   "metadata": {},
   "outputs": [
    {
     "data": {
      "text/plain": [
       "['0_data/cleaning/apt_rent.csv',\n",
       " '0_data/cleaning/apt_trade.csv',\n",
       " '0_data/cleaning/offi_rent.csv',\n",
       " '0_data/cleaning/offi_trade.csv']"
      ]
     },
     "execution_count": 5,
     "metadata": {},
     "output_type": "execute_result"
    }
   ],
   "source": [
    "# 국토교통부 아파트 , 오피스텔 데이터\n",
    "file_list = sorted(glob.glob(f'0_data/cleaning/*.csv'))\n",
    "file_list = [path.replace('\\\\', '/') for path in file_list]\n",
    "file_list"
   ]
  },
  {
   "cell_type": "code",
   "execution_count": 6,
   "id": "9d37c8bc",
   "metadata": {},
   "outputs": [
    {
     "name": "stdout",
     "output_type": "stream",
     "text": [
      "0_data/cleaning/apt_rent.csv : Index(['갱신요구권사용', '건축년도', '계약구분', '계약기간', '년', '동리명', '보증금액', '아파트', '월',\n",
      "       '월세금액', '일', '전용면적', '종전계약보증금', '종전계약월세', '지번', '법정동시군구코드', '층', '시도명',\n",
      "       '시군구명', '주소', '법정동코드', '법정동읍면동코드'],\n",
      "      dtype='object')\n",
      "0_data/cleaning/apt_trade.csv : Index(['거래금액', '거래유형', '건축년도', '전용면적', '법정동', '법정동코드', '아파트', '층', '년', '월',\n",
      "       '일', '시도명', '시군구명', '동리명'],\n",
      "      dtype='object')\n",
      "0_data/cleaning/offi_rent.csv : Index(['갱신요구권사용', '건축년도', '계약구분', '계약기간', '년', '단지', '동리명', '보증금', '시군구', '월',\n",
      "       '월세', '일', '전용면적', '종전계약보증금', '종전계약월세', '지번', '법정동시군구코드', '층', '시도명',\n",
      "       '시군구명', '주소', '법정동코드', '법정동읍면동코드'],\n",
      "      dtype='object')\n",
      "0_data/cleaning/offi_trade.csv : Index(['거래금액', '거래유형', '건축년도', '년', '단지', '동리명', '시군구', '월', '일', '전용면적',\n",
      "       '중개사소재지', '지번', '법정동시군구코드', '층', '시도명', '시군구명', '주소', '법정동코드',\n",
      "       '법정동읍면동코드'],\n",
      "      dtype='object')\n"
     ]
    }
   ],
   "source": [
    "for i in file_list:\n",
    "    file = pd.read_csv(i, thousands=r',' ,  dtype = {'법정동코드':str})\n",
    "    print(f'{i} : {file.columns}')"
   ]
  },
  {
   "cell_type": "code",
   "execution_count": 7,
   "id": "662b667a",
   "metadata": {},
   "outputs": [
    {
     "data": {
      "text/html": [
       "<div>\n",
       "<style scoped>\n",
       "    .dataframe tbody tr th:only-of-type {\n",
       "        vertical-align: middle;\n",
       "    }\n",
       "\n",
       "    .dataframe tbody tr th {\n",
       "        vertical-align: top;\n",
       "    }\n",
       "\n",
       "    .dataframe thead th {\n",
       "        text-align: right;\n",
       "    }\n",
       "</style>\n",
       "<table border=\"1\" class=\"dataframe\">\n",
       "  <thead>\n",
       "    <tr style=\"text-align: right;\">\n",
       "      <th></th>\n",
       "      <th>0</th>\n",
       "      <th>1</th>\n",
       "      <th>2</th>\n",
       "    </tr>\n",
       "  </thead>\n",
       "  <tbody>\n",
       "    <tr>\n",
       "      <th>갱신요구권사용</th>\n",
       "      <td></td>\n",
       "      <td></td>\n",
       "      <td></td>\n",
       "    </tr>\n",
       "    <tr>\n",
       "      <th>건축년도</th>\n",
       "      <td>1998</td>\n",
       "      <td>2008</td>\n",
       "      <td>2008</td>\n",
       "    </tr>\n",
       "    <tr>\n",
       "      <th>계약구분</th>\n",
       "      <td></td>\n",
       "      <td></td>\n",
       "      <td></td>\n",
       "    </tr>\n",
       "    <tr>\n",
       "      <th>계약기간</th>\n",
       "      <td></td>\n",
       "      <td></td>\n",
       "      <td></td>\n",
       "    </tr>\n",
       "    <tr>\n",
       "      <th>년</th>\n",
       "      <td>2021</td>\n",
       "      <td>2021</td>\n",
       "      <td>2021</td>\n",
       "    </tr>\n",
       "    <tr>\n",
       "      <th>단지</th>\n",
       "      <td>파크뷰타워</td>\n",
       "      <td>광화문 스페이스본</td>\n",
       "      <td>광화문 스페이스본</td>\n",
       "    </tr>\n",
       "    <tr>\n",
       "      <th>동리명</th>\n",
       "      <td>필운동</td>\n",
       "      <td>사직동</td>\n",
       "      <td>사직동</td>\n",
       "    </tr>\n",
       "    <tr>\n",
       "      <th>보증금</th>\n",
       "      <td>500</td>\n",
       "      <td>28300</td>\n",
       "      <td>32000</td>\n",
       "    </tr>\n",
       "    <tr>\n",
       "      <th>시군구</th>\n",
       "      <td>종로구</td>\n",
       "      <td>종로구</td>\n",
       "      <td>종로구</td>\n",
       "    </tr>\n",
       "    <tr>\n",
       "      <th>월</th>\n",
       "      <td>1</td>\n",
       "      <td>1</td>\n",
       "      <td>1</td>\n",
       "    </tr>\n",
       "    <tr>\n",
       "      <th>월세</th>\n",
       "      <td>50</td>\n",
       "      <td>0</td>\n",
       "      <td>0</td>\n",
       "    </tr>\n",
       "    <tr>\n",
       "      <th>일</th>\n",
       "      <td>23</td>\n",
       "      <td>7</td>\n",
       "      <td>23</td>\n",
       "    </tr>\n",
       "    <tr>\n",
       "      <th>전용면적</th>\n",
       "      <td>21.85</td>\n",
       "      <td>39.54</td>\n",
       "      <td>39.54</td>\n",
       "    </tr>\n",
       "    <tr>\n",
       "      <th>종전계약보증금</th>\n",
       "      <td></td>\n",
       "      <td></td>\n",
       "      <td></td>\n",
       "    </tr>\n",
       "    <tr>\n",
       "      <th>종전계약월세</th>\n",
       "      <td></td>\n",
       "      <td></td>\n",
       "      <td></td>\n",
       "    </tr>\n",
       "    <tr>\n",
       "      <th>지번</th>\n",
       "      <td>285-5</td>\n",
       "      <td>9</td>\n",
       "      <td>9</td>\n",
       "    </tr>\n",
       "    <tr>\n",
       "      <th>법정동시군구코드</th>\n",
       "      <td>11110</td>\n",
       "      <td>11110</td>\n",
       "      <td>11110</td>\n",
       "    </tr>\n",
       "    <tr>\n",
       "      <th>층</th>\n",
       "      <td>10</td>\n",
       "      <td>6</td>\n",
       "      <td>9</td>\n",
       "    </tr>\n",
       "    <tr>\n",
       "      <th>시도명</th>\n",
       "      <td>서울특별시</td>\n",
       "      <td>서울특별시</td>\n",
       "      <td>서울특별시</td>\n",
       "    </tr>\n",
       "    <tr>\n",
       "      <th>시군구명</th>\n",
       "      <td>종로구</td>\n",
       "      <td>종로구</td>\n",
       "      <td>종로구</td>\n",
       "    </tr>\n",
       "    <tr>\n",
       "      <th>주소</th>\n",
       "      <td>서울특별시 종로구 필운동</td>\n",
       "      <td>서울특별시 종로구 사직동</td>\n",
       "      <td>서울특별시 종로구 사직동</td>\n",
       "    </tr>\n",
       "    <tr>\n",
       "      <th>법정동코드</th>\n",
       "      <td>1111011300</td>\n",
       "      <td>1111011500</td>\n",
       "      <td>1111011500</td>\n",
       "    </tr>\n",
       "    <tr>\n",
       "      <th>법정동읍면동코드</th>\n",
       "      <td>11300</td>\n",
       "      <td>11500</td>\n",
       "      <td>11500</td>\n",
       "    </tr>\n",
       "  </tbody>\n",
       "</table>\n",
       "</div>"
      ],
      "text/plain": [
       "                      0              1              2\n",
       "갱신요구권사용                                              \n",
       "건축년도               1998           2008           2008\n",
       "계약구분                                                 \n",
       "계약기간                                                 \n",
       "년                  2021           2021           2021\n",
       "단지                파크뷰타워      광화문 스페이스본      광화문 스페이스본\n",
       "동리명                 필운동            사직동            사직동\n",
       "보증금                 500          28300          32000\n",
       "시군구                 종로구            종로구            종로구\n",
       "월                     1              1              1\n",
       "월세                   50              0              0\n",
       "일                    23              7             23\n",
       "전용면적              21.85          39.54          39.54\n",
       "종전계약보증금                                              \n",
       "종전계약월세                                               \n",
       "지번                285-5              9              9\n",
       "법정동시군구코드          11110          11110          11110\n",
       "층                    10              6              9\n",
       "시도명               서울특별시          서울특별시          서울특별시\n",
       "시군구명                종로구            종로구            종로구\n",
       "주소        서울특별시 종로구 필운동  서울특별시 종로구 사직동  서울특별시 종로구 사직동\n",
       "법정동코드        1111011300     1111011500     1111011500\n",
       "법정동읍면동코드          11300          11500          11500"
      ]
     },
     "execution_count": 7,
     "metadata": {},
     "output_type": "execute_result"
    }
   ],
   "source": [
    "offi_rent.head(3).T"
   ]
  },
  {
   "cell_type": "code",
   "execution_count": 8,
   "id": "bfb0e01c",
   "metadata": {},
   "outputs": [
    {
     "name": "stdout",
     "output_type": "stream",
     "text": [
      "<class 'pandas.core.frame.DataFrame'>\n",
      "RangeIndex: 279032 entries, 0 to 279031\n",
      "Data columns (total 14 columns):\n",
      " #   Column  Non-Null Count   Dtype  \n",
      "---  ------  --------------   -----  \n",
      " 0   거래금액    279032 non-null  int64  \n",
      " 1   거래유형    279032 non-null  object \n",
      " 2   건축년도    279032 non-null  int64  \n",
      " 3   전용면적    279032 non-null  float64\n",
      " 4   법정동     279032 non-null  object \n",
      " 5   법정동코드   279032 non-null  object \n",
      " 6   아파트     279032 non-null  object \n",
      " 7   층       279032 non-null  int64  \n",
      " 8   년       279032 non-null  int64  \n",
      " 9   월       279032 non-null  int64  \n",
      " 10  일       279032 non-null  int64  \n",
      " 11  시도명     279032 non-null  object \n",
      " 12  시군구명    277119 non-null  object \n",
      " 13  동리명     44880 non-null   object \n",
      "dtypes: float64(1), int64(6), object(7)\n",
      "memory usage: 29.8+ MB\n"
     ]
    }
   ],
   "source": [
    "apt_trade.info()"
   ]
  },
  {
   "cell_type": "markdown",
   "id": "29a86031",
   "metadata": {},
   "source": [
    "### 시각화 전용 데이터"
   ]
  },
  {
   "cell_type": "code",
   "execution_count": 9,
   "id": "297e2f7c",
   "metadata": {},
   "outputs": [
    {
     "data": {
      "text/html": [
       "<div>\n",
       "<style scoped>\n",
       "    .dataframe tbody tr th:only-of-type {\n",
       "        vertical-align: middle;\n",
       "    }\n",
       "\n",
       "    .dataframe tbody tr th {\n",
       "        vertical-align: top;\n",
       "    }\n",
       "\n",
       "    .dataframe thead th {\n",
       "        text-align: right;\n",
       "    }\n",
       "</style>\n",
       "<table border=\"1\" class=\"dataframe\">\n",
       "  <thead>\n",
       "    <tr style=\"text-align: right;\">\n",
       "      <th></th>\n",
       "      <th>시도명</th>\n",
       "      <th>년</th>\n",
       "      <th>월</th>\n",
       "    </tr>\n",
       "  </thead>\n",
       "  <tbody>\n",
       "    <tr>\n",
       "      <th>0</th>\n",
       "      <td>서울특별시</td>\n",
       "      <td>2021</td>\n",
       "      <td>1</td>\n",
       "    </tr>\n",
       "    <tr>\n",
       "      <th>1</th>\n",
       "      <td>부산광역시</td>\n",
       "      <td>2021</td>\n",
       "      <td>1</td>\n",
       "    </tr>\n",
       "    <tr>\n",
       "      <th>2</th>\n",
       "      <td>대구광역시</td>\n",
       "      <td>2021</td>\n",
       "      <td>1</td>\n",
       "    </tr>\n",
       "    <tr>\n",
       "      <th>3</th>\n",
       "      <td>인천광역시</td>\n",
       "      <td>2021</td>\n",
       "      <td>1</td>\n",
       "    </tr>\n",
       "    <tr>\n",
       "      <th>4</th>\n",
       "      <td>광주광역시</td>\n",
       "      <td>2021</td>\n",
       "      <td>1</td>\n",
       "    </tr>\n",
       "    <tr>\n",
       "      <th>...</th>\n",
       "      <td>...</td>\n",
       "      <td>...</td>\n",
       "      <td>...</td>\n",
       "    </tr>\n",
       "    <tr>\n",
       "      <th>75</th>\n",
       "      <td>전라북도</td>\n",
       "      <td>2021</td>\n",
       "      <td>5</td>\n",
       "    </tr>\n",
       "    <tr>\n",
       "      <th>76</th>\n",
       "      <td>전라남도</td>\n",
       "      <td>2021</td>\n",
       "      <td>5</td>\n",
       "    </tr>\n",
       "    <tr>\n",
       "      <th>77</th>\n",
       "      <td>경상북도</td>\n",
       "      <td>2021</td>\n",
       "      <td>5</td>\n",
       "    </tr>\n",
       "    <tr>\n",
       "      <th>78</th>\n",
       "      <td>경상남도</td>\n",
       "      <td>2021</td>\n",
       "      <td>5</td>\n",
       "    </tr>\n",
       "    <tr>\n",
       "      <th>79</th>\n",
       "      <td>제주특별자치도</td>\n",
       "      <td>2021</td>\n",
       "      <td>5</td>\n",
       "    </tr>\n",
       "  </tbody>\n",
       "</table>\n",
       "<p>80 rows × 3 columns</p>\n",
       "</div>"
      ],
      "text/plain": [
       "        시도명     년  월\n",
       "0     서울특별시  2021  1\n",
       "1     부산광역시  2021  1\n",
       "2     대구광역시  2021  1\n",
       "3     인천광역시  2021  1\n",
       "4     광주광역시  2021  1\n",
       "..      ...   ... ..\n",
       "75     전라북도  2021  5\n",
       "76     전라남도  2021  5\n",
       "77     경상북도  2021  5\n",
       "78     경상남도  2021  5\n",
       "79  제주특별자치도  2021  5\n",
       "\n",
       "[80 rows x 3 columns]"
      ]
     },
     "execution_count": 9,
     "metadata": {},
     "output_type": "execute_result"
    }
   ],
   "source": [
    "sig_area_list = apt_trade['시도명'].unique()\n",
    "year_list = apt_trade[['시도명','년','월']].drop_duplicates().reset_index(drop = True)\n",
    "year_list"
   ]
  },
  {
   "cell_type": "markdown",
   "id": "c1d6549b",
   "metadata": {},
   "source": [
    "#### 시도별 데이터 생성\n",
    "#### 지역 , 타입과 년 월 매매,전세,월세에 따른 거래량 , 평균 금액 데이터를 만듭니다"
   ]
  },
  {
   "cell_type": "code",
   "execution_count": 10,
   "id": "7cb1d1ff",
   "metadata": {},
   "outputs": [],
   "source": [
    "file_path = '0_data/vis/vis_trade_rent.csv'\n",
    "\n",
    "if not os.path.exists(file_path):\n",
    "    total = pd.DataFrame()\n",
    "\n",
    "    for idx , i in enumerate(file_list):\n",
    "        asdf = pd.read_csv(i, thousands=r',')\n",
    "\n",
    "        # 아파트 실거래 매매 데이터\n",
    "        if('거래금액' in asdf.columns):\n",
    "            # 구분 칼럼을 만들어줍니다\n",
    "            asdf['구분'] = '매매'\n",
    "            # 거래금액을 다양한 형태로 추출합니다\n",
    "            apart_trans2 = asdf[['거래금액','시도명','시군구명','년', '월','구분']].groupby(['시도명','시군구명','년', '월','구분']).describe()\n",
    "            apart_trans2 = apart_trans2.reset_index()\n",
    "\n",
    "            # 00 형식으로 월을 맞춰줍니다\n",
    "            apart_trans2['월'] = apart_trans2[\"월\"].astype('str').str.zfill(2)\n",
    "\n",
    "            apart_trans2 = pd.concat([apart_trans2[['시도명','시군구명','년', '월','구분']],apart_trans2['거래금액'][['count', 'mean']]], axis = 1)\n",
    "            apart_trans2.columns = ['시도명','시군구명','년','월','구분','count','mean']\n",
    "\n",
    "            apart_trans2 = apart_trans2.astype({'count':int ,'mean':int})\n",
    "\n",
    "            apart_trans2['거래날짜'] = apart_trans2['년'].astype(str) + apart_trans2['월'].astype(str) + \"01\"\n",
    "            apart_trans2['거래날짜'] = apart_trans2.apply(lambda x: pd.to_datetime(x['거래날짜'], format='%Y%m%d'), axis=1)\n",
    "            apart_trans2['타입'] = i.split(\"/\")[2].split(\"_\")[0]\n",
    "\n",
    "        # 그 외 데이터\n",
    "        else:\n",
    "            # 칼럼 이름을 맞춰줍니다\n",
    "            asdf = asdf.rename(columns = {'보증금':'보증금액'})\n",
    "            asdf = asdf.rename(columns = {'월세':'월세금액'})\n",
    "\n",
    "            # 구분 칼럼을 만들어줍니다\n",
    "            asdf['구분'] = np.where(asdf['월세금액'] == 0, '전세', '월세')\n",
    "            # 거래금액을 다양한 형태로 추출합니다\n",
    "            apart_trans2 = asdf[['보증금액','시도명','시군구명','년', '월','구분']].groupby(['시도명','시군구명','년', '월', '구분']).describe()\n",
    "            apart_trans2 = apart_trans2.reset_index()\n",
    "\n",
    "            # 00 형식으로 월을 맞춰줍니다\n",
    "            apart_trans2['월'] = apart_trans2[\"월\"].astype('str').str.zfill(2)\n",
    "\n",
    "            apart_trans2 = pd.concat([ apart_trans2[['시도명','시군구명','년', '월','구분']],apart_trans2['보증금액'][['count', 'mean']]], axis = 1)\n",
    "            apart_trans2.columns = ['시도명','시군구명','년','월','구분','count','mean']\n",
    "\n",
    "            apart_trans2 = apart_trans2.astype({'count':int ,'mean':int})\n",
    "\n",
    "            apart_trans2['거래날짜'] = apart_trans2['년'].astype(str) + apart_trans2['월'].astype(str) + \"01\"\n",
    "            apart_trans2['거래날짜'] = apart_trans2.apply(lambda x: pd.to_datetime(x['거래날짜'], format='%Y%m%d'), axis=1)\n",
    "            apart_trans2['타입'] = i.split(\"/\")[2].split(\"_\")[0]\n",
    "\n",
    "        print(idx)\n",
    "        total = pd.concat([total, apart_trans2])\n",
    "\n",
    "    total = total.reset_index(drop = True)\n",
    "    total.to_csv('0_data/vis/vis_trade_rent.csv')\n",
    "    total\n",
    "    \n",
    "else:\n",
    "    total = pd.read_csv('0_data/vis/vis_trade_rent.csv')\n",
    "    total"
   ]
  },
  {
   "cell_type": "code",
   "execution_count": 11,
   "id": "798df462",
   "metadata": {},
   "outputs": [
    {
     "name": "stdout",
     "output_type": "stream",
     "text": [
      "<class 'pandas.core.frame.DataFrame'>\n",
      "RangeIndex: 7652 entries, 0 to 7651\n",
      "Data columns (total 10 columns):\n",
      " #   Column      Non-Null Count  Dtype \n",
      "---  ------      --------------  ----- \n",
      " 0   Unnamed: 0  7652 non-null   int64 \n",
      " 1   시도명         7652 non-null   object\n",
      " 2   시군구명        7652 non-null   object\n",
      " 3   년           7652 non-null   int64 \n",
      " 4   월           7652 non-null   int64 \n",
      " 5   구분          7652 non-null   object\n",
      " 6   count       7652 non-null   int64 \n",
      " 7   mean        7652 non-null   int64 \n",
      " 8   거래날짜        7652 non-null   object\n",
      " 9   타입          7652 non-null   object\n",
      "dtypes: int64(5), object(5)\n",
      "memory usage: 597.9+ KB\n"
     ]
    }
   ],
   "source": [
    "total.info()"
   ]
  },
  {
   "cell_type": "markdown",
   "id": "3d800af3",
   "metadata": {},
   "source": [
    "#### 읍면동 데이터 생성"
   ]
  },
  {
   "cell_type": "code",
   "execution_count": 12,
   "id": "1d8a9b3e",
   "metadata": {},
   "outputs": [],
   "source": [
    "file_path = '0_data/vis/vis_trade_rent_emd.csv'\n",
    "\n",
    "if not os.path.exists(file_path):\n",
    "    total_emd = pd.DataFrame()\n",
    "\n",
    "    for idx , i in enumerate(file_list):\n",
    "        asdf = pd.read_csv(i, thousands=r',')\n",
    "    #     asdf = asdf[(asdf['년'] == 2021) & (asdf['월'] == 1)]\n",
    "\n",
    "        # 아파트 실거래 매매 데이터\n",
    "        if('거래금액' in asdf.columns):\n",
    "            # 구분 칼럼을 만들어줍니다\n",
    "            asdf['구분'] = '매매'\n",
    "            # 거래금액을 다양한 형태로 추출합니다\n",
    "            apart_trans2 = asdf[['거래금액','시도명','시군구명','동리명','년', '월','구분']].groupby(['시도명','시군구명','동리명','년', '월','구분']).describe()\n",
    "            apart_trans2 = apart_trans2.reset_index()\n",
    "\n",
    "            # 00 형식으로 월을 맞춰줍니다\n",
    "            apart_trans2['월'] = apart_trans2[\"월\"].astype('str').str.zfill(2)\n",
    "\n",
    "            apart_trans2 = pd.concat([ apart_trans2[['시도명','시군구명','동리명','년', '월','구분']],apart_trans2['거래금액'][['count', 'mean']]], axis = 1)\n",
    "            apart_trans2.columns = ['시도명','시군구명','동리명','년','월','구분','count','mean']\n",
    "\n",
    "            apart_trans2 = apart_trans2.astype({'count':int ,'mean':int})\n",
    "\n",
    "            apart_trans2['거래날짜'] = apart_trans2['년'].astype(str) + apart_trans2['월'].astype(str) + \"01\"\n",
    "            apart_trans2['거래날짜'] = apart_trans2.apply(lambda x: pd.to_datetime(x['거래날짜'], format='%Y%m%d'), axis=1)\n",
    "\n",
    "            apart_trans2['타입'] = i.split(\"/\")[2].split(\"_\")[0]\n",
    "\n",
    "        # 그 외 데이터\n",
    "        else:\n",
    "            # 칼럼 이름을 맞춰줍니다\n",
    "            asdf = asdf.rename(columns = {'보증금':'보증금액'})\n",
    "            asdf = asdf.rename(columns = {'월세':'월세금액'})\n",
    "\n",
    "            # 구분 칼럼을 만들어줍니다\n",
    "            asdf['구분'] = np.where(asdf['월세금액'] == 0, '전세', '월세')\n",
    "            # 거래금액을 다양한 형태로 추출합니다\n",
    "            apart_trans2 = asdf[['보증금액','시도명','시군구명','동리명','년', '월','구분']].groupby(['시도명','시군구명','동리명','년', '월', '구분']).describe()\n",
    "            apart_trans2 = apart_trans2.reset_index()\n",
    "\n",
    "            # 00 형식으로 월을 맞춰줍니다\n",
    "            apart_trans2['월'] = apart_trans2[\"월\"].astype('str').str.zfill(2)\n",
    "\n",
    "            apart_trans2 = pd.concat([ apart_trans2[['시도명','시군구명','동리명','년', '월','구분']],apart_trans2['보증금액'][['count', 'mean']]], axis = 1)\n",
    "            apart_trans2.columns = ['시도명','시군구명','동리명','년','월','구분','count','mean']\n",
    "\n",
    "            apart_trans2 = apart_trans2.astype({'count':int ,'mean':int})\n",
    "\n",
    "            apart_trans2['거래날짜'] = apart_trans2['년'].astype(str) + apart_trans2['월'].astype(str) + \"01\"\n",
    "            apart_trans2['거래날짜'] = apart_trans2.apply(lambda x: pd.to_datetime(x['거래날짜'], format='%Y%m%d'), axis=1)\n",
    "            apart_trans2['타입'] = i.split(\"/\")[2].split(\"_\")[0]\n",
    "\n",
    "        print(idx)\n",
    "        total_emd = pd.concat([total_emd, apart_trans2])\n",
    "\n",
    "    total_emd = total_emd.reset_index(drop = True)\n",
    "    total_emd.to_csv('0_data/vis/vis_trade_rent_emd.csv')\n",
    "    total_emd\n",
    "    \n",
    "else:\n",
    "    total_emd = pd.read_csv('0_data/vis/vis_trade_rent_emd.csv')\n",
    "    total_emd"
   ]
  },
  {
   "cell_type": "code",
   "execution_count": 13,
   "id": "7219feda",
   "metadata": {},
   "outputs": [
    {
     "name": "stdout",
     "output_type": "stream",
     "text": [
      "<class 'pandas.core.frame.DataFrame'>\n",
      "RangeIndex: 7652 entries, 0 to 7651\n",
      "Data columns (total 10 columns):\n",
      " #   Column      Non-Null Count  Dtype \n",
      "---  ------      --------------  ----- \n",
      " 0   Unnamed: 0  7652 non-null   int64 \n",
      " 1   시도명         7652 non-null   object\n",
      " 2   시군구명        7652 non-null   object\n",
      " 3   년           7652 non-null   int64 \n",
      " 4   월           7652 non-null   int64 \n",
      " 5   구분          7652 non-null   object\n",
      " 6   count       7652 non-null   int64 \n",
      " 7   mean        7652 non-null   int64 \n",
      " 8   거래날짜        7652 non-null   object\n",
      " 9   타입          7652 non-null   object\n",
      "dtypes: int64(5), object(5)\n",
      "memory usage: 597.9+ KB\n"
     ]
    }
   ],
   "source": [
    "total.info()"
   ]
  },
  {
   "cell_type": "code",
   "execution_count": 14,
   "id": "ce8050e5",
   "metadata": {},
   "outputs": [],
   "source": [
    "# 금액 단위를 읽기 쉽게 표현하는 함수를 만듭니다\n",
    "def readNumber(n):\n",
    "    # 백만 단위 보다 크면 억 단위로 표시\n",
    "    if(n > 10**4):\n",
    "        a = str(format(math.floor(n / 10**4),',d')) + '억'\n",
    "        b = ' ' + str(format(math.floor(n % 10**4),',d'))\n",
    "        c = a + b\n",
    "    # 작으면 그대로 반환\n",
    "    else:\n",
    "        c = format(n,',d') + '만'\n",
    "    return(c)"
   ]
  },
  {
   "cell_type": "markdown",
   "id": "364baa8d",
   "metadata": {},
   "source": [
    "### 지역별 부동산 매매 , 전월세 거래가 평균"
   ]
  },
  {
   "cell_type": "code",
   "execution_count": 32,
   "id": "8bb6ac28",
   "metadata": {},
   "outputs": [],
   "source": [
    "def vis_trade_rent(total, type_val, sig_area, year_val, month_val):\n",
    "    \n",
    "    # 타입 별 이름\n",
    "    type_dic = {'apt':'아파트','offi':'오피스텔'}\n",
    "    type_nm = type_dic[type_val]\n",
    "    \n",
    "    total = total.astype({'년' : int,'월' : int})\n",
    "    total['mean2'] = total['mean'].apply(lambda x : readNumber(x))\n",
    "    \n",
    "    \n",
    "    df1 = total[(total['시도명'] == sig_area) & \n",
    "                (total['년'] == year_val) & \n",
    "                (total['월'] == month_val) & \n",
    "                (total['타입'] == type_val)]\n",
    "    df1 = df1.sort_values(by = 'mean',ascending=False)\n",
    "    \n",
    "    # 각 거래 유형에 대한 데이터 추출\n",
    "    df_sale = df1[df1['구분'] == '매매']\n",
    "    df_lease = df1[df1['구분'] == '전세']\n",
    "    df_monthly = df1[df1['구분'] == '월세']\n",
    "    \n",
    "    # 데이터 다시 합쳐주기\n",
    "    combined_df = pd.concat([df_sale, df_lease, df_monthly])\n",
    "    \n",
    "    # 막대 그래프 그리기\n",
    "    fig, ax = plt.subplots(figsize=(16, 10))\n",
    "    sns.barplot(x='시군구명', y='mean', hue='구분', data=combined_df, alpha=0.7)\n",
    "\n",
    "    # 툴팁 추가\n",
    "    cursor = mplcursors.cursor(ax)\n",
    "    cursor.connect(\"add\", lambda sel: sel.annotation.set_text(f'({sel.target[0]:.1f}, {sel.target[1]:.1f})'))\n",
    "    \n",
    "    plt.title(f'{sig_area} 시군구별 아파트 매매(실거래가)/전월세(보증금) 평균값', pad=20, fontsize=20)\n",
    "    plt.text(0.8, 1.015, '단위(만원)', ha='center', va='center', fontsize=15, color='gray', transform=plt.gca().transAxes)\n",
    "    \n",
    "    # x와 y 축 레이블 제거\n",
    "    plt.xlabel('')\n",
    "    plt.ylabel('')\n",
    "    \n",
    "    # 축 레이블과 범례 폰트 크기 설정\n",
    "    plt.yticks(fontsize=14)\n",
    "    plt.xticks(fontsize=14)\n",
    "    plt.legend(prop={'size': 20})  # 범례의 폰트 크기를 12로 조절\n",
    "    \n",
    "    plt.xticks(rotation=90)  # x축 라벨 회전\n",
    "    plt.grid(axis='y')  # y축 그리드 표시\n",
    "    \n",
    "    plt.show()    "
   ]
  },
  {
   "cell_type": "code",
   "execution_count": 33,
   "id": "9748bc31",
   "metadata": {},
   "outputs": [],
   "source": [
    "# plotly 사용\n",
    "def vis_trade_rent2(total, type_val, sig_area, year_val, month_val):\n",
    "    \n",
    "    # 타입 별 이름\n",
    "    type_dic = {'apt':'아파트','offi':'오피스텔'}\n",
    "    type_nm = type_dic[type_val]\n",
    "    \n",
    "    total = total.astype({'년' : int,'월' : int})\n",
    "    total['mean2'] = total['mean'].apply(lambda x : readNumber(x))\n",
    "    \n",
    "    \n",
    "    df1 = total[(total['시도명'] == sig_area) & \n",
    "                (total['년'] == year_val) & \n",
    "                (total['월'] == month_val) & \n",
    "                (total['타입'] == type_val)]\n",
    "    df1 = df1.sort_values(by = 'mean',ascending=False)\n",
    "    \n",
    "    # 각 거래 유형에 대한 데이터 추출\n",
    "    df_sale = df1[df1['구분'] == '매매']\n",
    "    df_lease = df1[df1['구분'] == '전세']\n",
    "    df_monthly = df1[df1['구분'] == '월세']\n",
    "    \n",
    "    # 데이터 다시 합쳐주기\n",
    "    combined_df = pd.concat([df_sale, df_lease, df_monthly])\n",
    "    \n",
    "    # 막대 그래프 그리기 (plotly 사용)\n",
    "    fig = px.bar(combined_df, x='시군구명', y='mean', color='구분', barmode='group')\n",
    "\n",
    "    # 그래프 레이아웃 및 제목 설정\n",
    "    fig.update_layout(\n",
    "        title=f'{sig_area} 시군구별 아파트 매매(실거래가)/전월세(보증금) 평균값 <br><sub>단위(만원)</sup>',\n",
    "        xaxis_title='',\n",
    "        yaxis_title='',\n",
    "        font=dict(size=14),\n",
    "        legend=dict(title='구분', font=dict(size=12)),\n",
    "        xaxis=dict(tickangle=90),\n",
    "        yaxis=dict(title='단위(만원)', titlefont=dict(size=14)),\n",
    "        bargap=0.15\n",
    "    )\n",
    "\n",
    "    fig.show()"
   ]
  },
  {
   "cell_type": "code",
   "execution_count": 34,
   "id": "b5341127",
   "metadata": {
    "scrolled": true
   },
   "outputs": [
    {
     "data": {
      "image/png": "[encoded data removed]",
      "text/plain": [
       "<Figure size 1600x1000 with 1 Axes>"
      ]
     },
     "metadata": {},
     "output_type": "display_data"
    }
   ],
   "source": [
    "type_val = 'apt'\n",
    "sig_area ='서울특별시'\n",
    "year_val = 2021\n",
    "month_val = 1\n",
    "\n",
    "vis_trade_rent(total, type_val, sig_area, year_val, month_val)"
   ]
  },
  {
   "cell_type": "code",
   "execution_count": 35,
   "id": "a2200ba5",
   "metadata": {},
   "outputs": [
    {
     "data": {
      "application/vnd.plotly.v1+json": {
       "config": {
        "plotlyServerURL": "https://plot.ly"
       },
       "data": [
        {
         "alignmentgroup": "True",
         "hovertemplate": "구분=매매<br>시군구명=%{x}<br>mean=%{y}<extra></extra>",
         "legendgroup": "매매",
         "marker": {
          "color": "#636efa",
          "pattern": {
           "shape": ""
          }
         },
         "name": "매매",
         "offsetgroup": "매매",
         "orientation": "v",
         "showlegend": true,
         "textposition": "auto",
         "type": "bar",
         "x": [
          "강남구",
          "서초구",
          "용산구",
          "송파구",
          "성동구",
          "광진구",
          "마포구",
          "동작구",
          "영등포구",
          "양천구",
          "중구",
          "강동구",
          "종로구",
          "서대문구",
          "성북구",
          "강서구",
          "은평구",
          "관악구",
          "동대문구",
          "강북구",
          "노원구",
          "구로구",
          "금천구",
          "중랑구",
          "도봉구"
         ],
         "xaxis": "x",
         "y": [
          199820,
          198804,
          164056,
          150991,
          130166,
          123923,
          115274,
          114155,
          109112,
          106158,
          105177,
          99705,
          96454,
          94343,
          80597,
          79015,
          75424,
          73506,
          68925,
          65221,
          62469,
          60879,
          58906,
          58632,
          56289
         ],
         "yaxis": "y"
        },
        {
         "alignmentgroup": "True",
         "hovertemplate": "구분=전세<br>시군구명=%{x}<br>mean=%{y}<extra></extra>",
         "legendgroup": "전세",
         "marker": {
          "color": "#EF553B",
          "pattern": {
           "shape": ""
          }
         },
         "name": "전세",
         "offsetgroup": "전세",
         "orientation": "v",
         "showlegend": true,
         "textposition": "auto",
         "type": "bar",
         "x": [
          "서초구",
          "강남구",
          "송파구",
          "용산구",
          "성동구",
          "종로구",
          "광진구",
          "동작구",
          "마포구",
          "양천구",
          "강동구",
          "중구",
          "영등포구",
          "서대문구",
          "성북구",
          "동대문구",
          "관악구",
          "강서구",
          "은평구",
          "강북구",
          "구로구",
          "중랑구",
          "금천구",
          "노원구",
          "도봉구"
         ],
         "xaxis": "x",
         "y": [
          86903,
          86317,
          69152,
          66418,
          65252,
          62519,
          57696,
          56864,
          55405,
          53846,
          51129,
          50713,
          50543,
          47680,
          44837,
          42421,
          40988,
          40509,
          38596,
          36037,
          35098,
          34807,
          32646,
          30134,
          29967
         ],
         "yaxis": "y"
        },
        {
         "alignmentgroup": "True",
         "hovertemplate": "구분=월세<br>시군구명=%{x}<br>mean=%{y}<extra></extra>",
         "legendgroup": "월세",
         "marker": {
          "color": "#00cc96",
          "pattern": {
           "shape": ""
          }
         },
         "name": "월세",
         "offsetgroup": "월세",
         "orientation": "v",
         "showlegend": true,
         "textposition": "auto",
         "type": "bar",
         "x": [
          "강남구",
          "서초구",
          "송파구",
          "용산구",
          "성동구",
          "양천구",
          "동작구",
          "광진구",
          "마포구",
          "중구",
          "서대문구",
          "구로구",
          "영등포구",
          "종로구",
          "성북구",
          "강동구",
          "강서구",
          "동대문구",
          "관악구",
          "금천구",
          "은평구",
          "강북구",
          "중랑구",
          "노원구",
          "도봉구"
         ],
         "xaxis": "x",
         "y": [
          43900,
          39135,
          32651,
          32268,
          28850,
          27696,
          23160,
          22692,
          20077,
          18831,
          17773,
          16790,
          16467,
          15429,
          15334,
          15008,
          11726,
          11541,
          10848,
          9970,
          9531,
          9196,
          8398,
          8119,
          7234
         ],
         "yaxis": "y"
        }
       ],
       "layout": {
        "bargap": 0.15,
        "barmode": "group",
        "font": {
         "size": 14
        },
        "legend": {
         "font": {
          "size": 12
         },
         "title": {
          "text": "구분"
         },
         "tracegroupgap": 0
        },
        "margin": {
         "t": 60
        },
        "template": {
         "data": {
          "bar": [
           {
            "error_x": {
             "color": "#2a3f5f"
            },
            "error_y": {
             "color": "#2a3f5f"
            },
            "marker": {
             "line": {
              "color": "#E5ECF6",
              "width": 0.5
             },
             "pattern": {
              "fillmode": "overlay",
              "size": 10,
              "solidity": 0.2
             }
            },
            "type": "bar"
           }
          ],
          "barpolar": [
           {
            "marker": {
             "line": {
              "color": "#E5ECF6",
              "width": 0.5
             },
             "pattern": {
              "fillmode": "overlay",
              "size": 10,
              "solidity": 0.2
             }
            },
            "type": "barpolar"
           }
          ],
          "carpet": [
           {
            "aaxis": {
             "endlinecolor": "#2a3f5f",
             "gridcolor": "white",
             "linecolor": "white",
             "minorgridcolor": "white",
             "startlinecolor": "#2a3f5f"
            },
            "baxis": {
             "endlinecolor": "#2a3f5f",
             "gridcolor": "white",
             "linecolor": "white",
             "minorgridcolor": "white",
             "startlinecolor": "#2a3f5f"
            },
            "type": "carpet"
           }
          ],
          "choropleth": [
           {
            "colorbar": {
             "outlinewidth": 0,
             "ticks": ""
            },
            "type": "choropleth"
           }
          ],
          "contour": [
           {
            "colorbar": {
             "outlinewidth": 0,
             "ticks": ""
            },
            "colorscale": [
             [
              0,
              "#0d0887"
             ],
             [
              0.1111111111111111,
              "#46039f"
             ],
             [
              0.2222222222222222,
              "#7201a8"
             ],
             [
              0.3333333333333333,
              "#9c179e"
             ],
             [
              0.4444444444444444,
              "#bd3786"
             ],
             [
              0.5555555555555556,
              "#d8576b"
             ],
             [
              0.6666666666666666,
              "#ed7953"
             ],
             [
              0.7777777777777778,
              "#fb9f3a"
             ],
             [
              0.8888888888888888,
              "#fdca26"
             ],
             [
              1,
              "#f0f921"
             ]
            ],
            "type": "contour"
           }
          ],
          "contourcarpet": [
           {
            "colorbar": {
             "outlinewidth": 0,
             "ticks": ""
            },
            "type": "contourcarpet"
           }
          ],
          "heatmap": [
           {
            "colorbar": {
             "outlinewidth": 0,
             "ticks": ""
            },
            "colorscale": [
             [
              0,
              "#0d0887"
             ],
             [
              0.1111111111111111,
              "#46039f"
             ],
             [
              0.2222222222222222,
              "#7201a8"
             ],
             [
              0.3333333333333333,
              "#9c179e"
             ],
             [
              0.4444444444444444,
              "#bd3786"
             ],
             [
              0.5555555555555556,
              "#d8576b"
             ],
             [
              0.6666666666666666,
              "#ed7953"
             ],
             [
              0.7777777777777778,
              "#fb9f3a"
             ],
             [
              0.8888888888888888,
              "#fdca26"
             ],
             [
              1,
              "#f0f921"
             ]
            ],
            "type": "heatmap"
           }
          ],
          "heatmapgl": [
           {
            "colorbar": {
             "outlinewidth": 0,
             "ticks": ""
            },
            "colorscale": [
             [
              0,
              "#0d0887"
             ],
             [
              0.1111111111111111,
              "#46039f"
             ],
             [
              0.2222222222222222,
              "#7201a8"
             ],
             [
              0.3333333333333333,
              "#9c179e"
             ],
             [
              0.4444444444444444,
              "#bd3786"
             ],
             [
              0.5555555555555556,
              "#d8576b"
             ],
             [
              0.6666666666666666,
              "#ed7953"
             ],
             [
              0.7777777777777778,
              "#fb9f3a"
             ],
             [
              0.8888888888888888,
              "#fdca26"
             ],
             [
              1,
              "#f0f921"
             ]
            ],
            "type": "heatmapgl"
           }
          ],
          "histogram": [
           {
            "marker": {
             "pattern": {
              "fillmode": "overlay",
              "size": 10,
              "solidity": 0.2
             }
            },
            "type": "histogram"
           }
          ],
          "histogram2d": [
           {
            "colorbar": {
             "outlinewidth": 0,
             "ticks": ""
            },
            "colorscale": [
             [
              0,
              "#0d0887"
             ],
             [
              0.1111111111111111,
              "#46039f"
             ],
             [
              0.2222222222222222,
              "#7201a8"
             ],
             [
              0.3333333333333333,
              "#9c179e"
             ],
             [
              0.4444444444444444,
              "#bd3786"
             ],
             [
              0.5555555555555556,
              "#d8576b"
             ],
             [
              0.6666666666666666,
              "#ed7953"
             ],
             [
              0.7777777777777778,
              "#fb9f3a"
             ],
             [
              0.8888888888888888,
              "#fdca26"
             ],
             [
              1,
              "#f0f921"
             ]
            ],
            "type": "histogram2d"
           }
          ],
          "histogram2dcontour": [
           {
            "colorbar": {
             "outlinewidth": 0,
             "ticks": ""
            },
            "colorscale": [
             [
              0,
              "#0d0887"
             ],
             [
              0.1111111111111111,
              "#46039f"
             ],
             [
              0.2222222222222222,
              "#7201a8"
             ],
             [
              0.3333333333333333,
              "#9c179e"
             ],
             [
              0.4444444444444444,
              "#bd3786"
             ],
             [
              0.5555555555555556,
              "#d8576b"
             ],
             [
              0.6666666666666666,
              "#ed7953"
             ],
             [
              0.7777777777777778,
              "#fb9f3a"
             ],
             [
              0.8888888888888888,
              "#fdca26"
             ],
             [
              1,
              "#f0f921"
             ]
            ],
            "type": "histogram2dcontour"
           }
          ],
          "mesh3d": [
           {
            "colorbar": {
             "outlinewidth": 0,
             "ticks": ""
            },
            "type": "mesh3d"
           }
          ],
          "parcoords": [
           {
            "line": {
             "colorbar": {
              "outlinewidth": 0,
              "ticks": ""
             }
            },
            "type": "parcoords"
           }
          ],
          "pie": [
           {
            "automargin": true,
            "type": "pie"
           }
          ],
          "scatter": [
           {
            "fillpattern": {
             "fillmode": "overlay",
             "size": 10,
             "solidity": 0.2
            },
            "type": "scatter"
           }
          ],
          "scatter3d": [
           {
            "line": {
             "colorbar": {
              "outlinewidth": 0,
              "ticks": ""
             }
            },
            "marker": {
             "colorbar": {
              "outlinewidth": 0,
              "ticks": ""
             }
            },
            "type": "scatter3d"
           }
          ],
          "scattercarpet": [
           {
            "marker": {
             "colorbar": {
              "outlinewidth": 0,
              "ticks": ""
             }
            },
            "type": "scattercarpet"
           }
          ],
          "scattergeo": [
           {
            "marker": {
             "colorbar": {
              "outlinewidth": 0,
              "ticks": ""
             }
            },
            "type": "scattergeo"
           }
          ],
          "scattergl": [
           {
            "marker": {
             "colorbar": {
              "outlinewidth": 0,
              "ticks": ""
             }
            },
            "type": "scattergl"
           }
          ],
          "scattermapbox": [
           {
            "marker": {
             "colorbar": {
              "outlinewidth": 0,
              "ticks": ""
             }
            },
            "type": "scattermapbox"
           }
          ],
          "scatterpolar": [
           {
            "marker": {
             "colorbar": {
              "outlinewidth": 0,
              "ticks": ""
             }
            },
            "type": "scatterpolar"
           }
          ],
          "scatterpolargl": [
           {
            "marker": {
             "colorbar": {
              "outlinewidth": 0,
              "ticks": ""
             }
            },
            "type": "scatterpolargl"
           }
          ],
          "scatterternary": [
           {
            "marker": {
             "colorbar": {
              "outlinewidth": 0,
              "ticks": ""
             }
            },
            "type": "scatterternary"
           }
          ],
          "surface": [
           {
            "colorbar": {
             "outlinewidth": 0,
             "ticks": ""
            },
            "colorscale": [
             [
              0,
              "#0d0887"
             ],
             [
              0.1111111111111111,
              "#46039f"
             ],
             [
              0.2222222222222222,
              "#7201a8"
             ],
             [
              0.3333333333333333,
              "#9c179e"
             ],
             [
              0.4444444444444444,
              "#bd3786"
             ],
             [
              0.5555555555555556,
              "#d8576b"
             ],
             [
              0.6666666666666666,
              "#ed7953"
             ],
             [
              0.7777777777777778,
              "#fb9f3a"
             ],
             [
              0.8888888888888888,
              "#fdca26"
             ],
             [
              1,
              "#f0f921"
             ]
            ],
            "type": "surface"
           }
          ],
          "table": [
           {
            "cells": {
             "fill": {
              "color": "#EBF0F8"
             },
             "line": {
              "color": "white"
             }
            },
            "header": {
             "fill": {
              "color": "#C8D4E3"
             },
             "line": {
              "color": "white"
             }
            },
            "type": "table"
           }
          ]
         },
         "layout": {
          "annotationdefaults": {
           "arrowcolor": "#2a3f5f",
           "arrowhead": 0,
           "arrowwidth": 1
          },
          "autotypenumbers": "strict",
          "coloraxis": {
           "colorbar": {
            "outlinewidth": 0,
            "ticks": ""
           }
          },
          "colorscale": {
           "diverging": [
            [
             0,
             "#8e0152"
            ],
            [
             0.1,
             "#c51b7d"
            ],
            [
             0.2,
             "#de77ae"
            ],
            [
             0.3,
             "#f1b6da"
            ],
            [
             0.4,
             "#fde0ef"
            ],
            [
             0.5,
             "#f7f7f7"
            ],
            [
             0.6,
             "#e6f5d0"
            ],
            [
             0.7,
             "#b8e186"
            ],
            [
             0.8,
             "#7fbc41"
            ],
            [
             0.9,
             "#4d9221"
            ],
            [
             1,
             "#276419"
            ]
           ],
           "sequential": [
            [
             0,
             "#0d0887"
            ],
            [
             0.1111111111111111,
             "#46039f"
            ],
            [
             0.2222222222222222,
             "#7201a8"
            ],
            [
             0.3333333333333333,
             "#9c179e"
            ],
            [
             0.4444444444444444,
             "#bd3786"
            ],
            [
             0.5555555555555556,
             "#d8576b"
            ],
            [
             0.6666666666666666,
             "#ed7953"
            ],
            [
             0.7777777777777778,
             "#fb9f3a"
            ],
            [
             0.8888888888888888,
             "#fdca26"
            ],
            [
             1,
             "#f0f921"
            ]
           ],
           "sequentialminus": [
            [
             0,
             "#0d0887"
            ],
            [
             0.1111111111111111,
             "#46039f"
            ],
            [
             0.2222222222222222,
             "#7201a8"
            ],
            [
             0.3333333333333333,
             "#9c179e"
            ],
            [
             0.4444444444444444,
             "#bd3786"
            ],
            [
             0.5555555555555556,
             "#d8576b"
            ],
            [
             0.6666666666666666,
             "#ed7953"
            ],
            [
             0.7777777777777778,
             "#fb9f3a"
            ],
            [
             0.8888888888888888,
             "#fdca26"
            ],
            [
             1,
             "#f0f921"
            ]
           ]
          },
          "colorway": [
           "#636efa",
           "#EF553B",
           "#00cc96",
           "#ab63fa",
           "#FFA15A",
           "#19d3f3",
           "#FF6692",
           "#B6E880",
           "#FF97FF",
           "#FECB52"
          ],
          "font": {
           "color": "#2a3f5f"
          },
          "geo": {
           "bgcolor": "white",
           "lakecolor": "white",
           "landcolor": "#E5ECF6",
           "showlakes": true,
           "showland": true,
           "subunitcolor": "white"
          },
          "hoverlabel": {
           "align": "left"
          },
          "hovermode": "closest",
          "mapbox": {
           "style": "light"
          },
          "paper_bgcolor": "white",
          "plot_bgcolor": "#E5ECF6",
          "polar": {
           "angularaxis": {
            "gridcolor": "white",
            "linecolor": "white",
            "ticks": ""
           },
           "bgcolor": "#E5ECF6",
           "radialaxis": {
            "gridcolor": "white",
            "linecolor": "white",
            "ticks": ""
           }
          },
          "scene": {
           "xaxis": {
            "backgroundcolor": "#E5ECF6",
            "gridcolor": "white",
            "gridwidth": 2,
            "linecolor": "white",
            "showbackground": true,
            "ticks": "",
            "zerolinecolor": "white"
           },
           "yaxis": {
            "backgroundcolor": "#E5ECF6",
            "gridcolor": "white",
            "gridwidth": 2,
            "linecolor": "white",
            "showbackground": true,
            "ticks": "",
            "zerolinecolor": "white"
           },
           "zaxis": {
            "backgroundcolor": "#E5ECF6",
            "gridcolor": "white",
            "gridwidth": 2,
            "linecolor": "white",
            "showbackground": true,
            "ticks": "",
            "zerolinecolor": "white"
           }
          },
          "shapedefaults": {
           "line": {
            "color": "#2a3f5f"
           }
          },
          "ternary": {
           "aaxis": {
            "gridcolor": "white",
            "linecolor": "white",
            "ticks": ""
           },
           "baxis": {
            "gridcolor": "white",
            "linecolor": "white",
            "ticks": ""
           },
           "bgcolor": "#E5ECF6",
           "caxis": {
            "gridcolor": "white",
            "linecolor": "white",
            "ticks": ""
           }
          },
          "title": {
           "x": 0.05
          },
          "xaxis": {
           "automargin": true,
           "gridcolor": "white",
           "linecolor": "white",
           "ticks": "",
           "title": {
            "standoff": 15
           },
           "zerolinecolor": "white",
           "zerolinewidth": 2
          },
          "yaxis": {
           "automargin": true,
           "gridcolor": "white",
           "linecolor": "white",
           "ticks": "",
           "title": {
            "standoff": 15
           },
           "zerolinecolor": "white",
           "zerolinewidth": 2
          }
         }
        },
        "title": {
         "text": "서울특별시 시군구별 아파트 매매(실거래가)/전월세(보증금) 평균값 <br><sub>단위(만원)</sup>"
        },
        "xaxis": {
         "anchor": "y",
         "domain": [
          0,
          1
         ],
         "tickangle": 90,
         "title": {
          "text": ""
         }
        },
        "yaxis": {
         "anchor": "x",
         "domain": [
          0,
          1
         ],
         "title": {
          "font": {
           "size": 14
          },
          "text": "단위(만원)"
         }
        }
       }
      },
      "text/html": [
       "<div>                            <div id=\"8ef218a3-dd1a-4b57-8b03-4087a04b174e\" class=\"plotly-graph-div\" style=\"height:525px; width:100%;\"></div>            <script type=\"text/javascript\">                require([\"plotly\"], function(Plotly) {                    window.PLOTLYENV=window.PLOTLYENV || {};                                    if (document.getElementById(\"8ef218a3-dd1a-4b57-8b03-4087a04b174e\")) {                    Plotly.newPlot(                        \"8ef218a3-dd1a-4b57-8b03-4087a04b174e\",                        [{\"alignmentgroup\":\"True\",\"hovertemplate\":\"\\uad6c\\ubd84=\\ub9e4\\ub9e4\\u003cbr\\u003e\\uc2dc\\uad70\\uad6c\\uba85=%{x}\\u003cbr\\u003emean=%{y}\\u003cextra\\u003e\\u003c\\u002fextra\\u003e\",\"legendgroup\":\"\\ub9e4\\ub9e4\",\"marker\":{\"color\":\"#636efa\",\"pattern\":{\"shape\":\"\"}},\"name\":\"\\ub9e4\\ub9e4\",\"offsetgroup\":\"\\ub9e4\\ub9e4\",\"orientation\":\"v\",\"showlegend\":true,\"textposition\":\"auto\",\"x\":[\"\\uac15\\ub0a8\\uad6c\",\"\\uc11c\\ucd08\\uad6c\",\"\\uc6a9\\uc0b0\\uad6c\",\"\\uc1a1\\ud30c\\uad6c\",\"\\uc131\\ub3d9\\uad6c\",\"\\uad11\\uc9c4\\uad6c\",\"\\ub9c8\\ud3ec\\uad6c\",\"\\ub3d9\\uc791\\uad6c\",\"\\uc601\\ub4f1\\ud3ec\\uad6c\",\"\\uc591\\ucc9c\\uad6c\",\"\\uc911\\uad6c\",\"\\uac15\\ub3d9\\uad6c\",\"\\uc885\\ub85c\\uad6c\",\"\\uc11c\\ub300\\ubb38\\uad6c\",\"\\uc131\\ubd81\\uad6c\",\"\\uac15\\uc11c\\uad6c\",\"\\uc740\\ud3c9\\uad6c\",\"\\uad00\\uc545\\uad6c\",\"\\ub3d9\\ub300\\ubb38\\uad6c\",\"\\uac15\\ubd81\\uad6c\",\"\\ub178\\uc6d0\\uad6c\",\"\\uad6c\\ub85c\\uad6c\",\"\\uae08\\ucc9c\\uad6c\",\"\\uc911\\ub791\\uad6c\",\"\\ub3c4\\ubd09\\uad6c\"],\"xaxis\":\"x\",\"y\":[199820,198804,164056,150991,130166,123923,115274,114155,109112,106158,105177,99705,96454,94343,80597,79015,75424,73506,68925,65221,62469,60879,58906,58632,56289],\"yaxis\":\"y\",\"type\":\"bar\"},{\"alignmentgroup\":\"True\",\"hovertemplate\":\"\\uad6c\\ubd84=\\uc804\\uc138\\u003cbr\\u003e\\uc2dc\\uad70\\uad6c\\uba85=%{x}\\u003cbr\\u003emean=%{y}\\u003cextra\\u003e\\u003c\\u002fextra\\u003e\",\"legendgroup\":\"\\uc804\\uc138\",\"marker\":{\"color\":\"#EF553B\",\"pattern\":{\"shape\":\"\"}},\"name\":\"\\uc804\\uc138\",\"offsetgroup\":\"\\uc804\\uc138\",\"orientation\":\"v\",\"showlegend\":true,\"textposition\":\"auto\",\"x\":[\"\\uc11c\\ucd08\\uad6c\",\"\\uac15\\ub0a8\\uad6c\",\"\\uc1a1\\ud30c\\uad6c\",\"\\uc6a9\\uc0b0\\uad6c\",\"\\uc131\\ub3d9\\uad6c\",\"\\uc885\\ub85c\\uad6c\",\"\\uad11\\uc9c4\\uad6c\",\"\\ub3d9\\uc791\\uad6c\",\"\\ub9c8\\ud3ec\\uad6c\",\"\\uc591\\ucc9c\\uad6c\",\"\\uac15\\ub3d9\\uad6c\",\"\\uc911\\uad6c\",\"\\uc601\\ub4f1\\ud3ec\\uad6c\",\"\\uc11c\\ub300\\ubb38\\uad6c\",\"\\uc131\\ubd81\\uad6c\",\"\\ub3d9\\ub300\\ubb38\\uad6c\",\"\\uad00\\uc545\\uad6c\",\"\\uac15\\uc11c\\uad6c\",\"\\uc740\\ud3c9\\uad6c\",\"\\uac15\\ubd81\\uad6c\",\"\\uad6c\\ub85c\\uad6c\",\"\\uc911\\ub791\\uad6c\",\"\\uae08\\ucc9c\\uad6c\",\"\\ub178\\uc6d0\\uad6c\",\"\\ub3c4\\ubd09\\uad6c\"],\"xaxis\":\"x\",\"y\":[86903,86317,69152,66418,65252,62519,57696,56864,55405,53846,51129,50713,50543,47680,44837,42421,40988,40509,38596,36037,35098,34807,32646,30134,29967],\"yaxis\":\"y\",\"type\":\"bar\"},{\"alignmentgroup\":\"True\",\"hovertemplate\":\"\\uad6c\\ubd84=\\uc6d4\\uc138\\u003cbr\\u003e\\uc2dc\\uad70\\uad6c\\uba85=%{x}\\u003cbr\\u003emean=%{y}\\u003cextra\\u003e\\u003c\\u002fextra\\u003e\",\"legendgroup\":\"\\uc6d4\\uc138\",\"marker\":{\"color\":\"#00cc96\",\"pattern\":{\"shape\":\"\"}},\"name\":\"\\uc6d4\\uc138\",\"offsetgroup\":\"\\uc6d4\\uc138\",\"orientation\":\"v\",\"showlegend\":true,\"textposition\":\"auto\",\"x\":[\"\\uac15\\ub0a8\\uad6c\",\"\\uc11c\\ucd08\\uad6c\",\"\\uc1a1\\ud30c\\uad6c\",\"\\uc6a9\\uc0b0\\uad6c\",\"\\uc131\\ub3d9\\uad6c\",\"\\uc591\\ucc9c\\uad6c\",\"\\ub3d9\\uc791\\uad6c\",\"\\uad11\\uc9c4\\uad6c\",\"\\ub9c8\\ud3ec\\uad6c\",\"\\uc911\\uad6c\",\"\\uc11c\\ub300\\ubb38\\uad6c\",\"\\uad6c\\ub85c\\uad6c\",\"\\uc601\\ub4f1\\ud3ec\\uad6c\",\"\\uc885\\ub85c\\uad6c\",\"\\uc131\\ubd81\\uad6c\",\"\\uac15\\ub3d9\\uad6c\",\"\\uac15\\uc11c\\uad6c\",\"\\ub3d9\\ub300\\ubb38\\uad6c\",\"\\uad00\\uc545\\uad6c\",\"\\uae08\\ucc9c\\uad6c\",\"\\uc740\\ud3c9\\uad6c\",\"\\uac15\\ubd81\\uad6c\",\"\\uc911\\ub791\\uad6c\",\"\\ub178\\uc6d0\\uad6c\",\"\\ub3c4\\ubd09\\uad6c\"],\"xaxis\":\"x\",\"y\":[43900,39135,32651,32268,28850,27696,23160,22692,20077,18831,17773,16790,16467,15429,15334,15008,11726,11541,10848,9970,9531,9196,8398,8119,7234],\"yaxis\":\"y\",\"type\":\"bar\"}],                        {\"template\":{\"data\":{\"histogram2dcontour\":[{\"type\":\"histogram2dcontour\",\"colorbar\":{\"outlinewidth\":0,\"ticks\":\"\"},\"colorscale\":[[0.0,\"#0d0887\"],[0.1111111111111111,\"#46039f\"],[0.2222222222222222,\"#7201a8\"],[0.3333333333333333,\"#9c179e\"],[0.4444444444444444,\"#bd3786\"],[0.5555555555555556,\"#d8576b\"],[0.6666666666666666,\"#ed7953\"],[0.7777777777777778,\"#fb9f3a\"],[0.8888888888888888,\"#fdca26\"],[1.0,\"#f0f921\"]]}],\"choropleth\":[{\"type\":\"choropleth\",\"colorbar\":{\"outlinewidth\":0,\"ticks\":\"\"}}],\"histogram2d\":[{\"type\":\"histogram2d\",\"colorbar\":{\"outlinewidth\":0,\"ticks\":\"\"},\"colorscale\":[[0.0,\"#0d0887\"],[0.1111111111111111,\"#46039f\"],[0.2222222222222222,\"#7201a8\"],[0.3333333333333333,\"#9c179e\"],[0.4444444444444444,\"#bd3786\"],[0.5555555555555556,\"#d8576b\"],[0.6666666666666666,\"#ed7953\"],[0.7777777777777778,\"#fb9f3a\"],[0.8888888888888888,\"#fdca26\"],[1.0,\"#f0f921\"]]}],\"heatmap\":[{\"type\":\"heatmap\",\"colorbar\":{\"outlinewidth\":0,\"ticks\":\"\"},\"colorscale\":[[0.0,\"#0d0887\"],[0.1111111111111111,\"#46039f\"],[0.2222222222222222,\"#7201a8\"],[0.3333333333333333,\"#9c179e\"],[0.4444444444444444,\"#bd3786\"],[0.5555555555555556,\"#d8576b\"],[0.6666666666666666,\"#ed7953\"],[0.7777777777777778,\"#fb9f3a\"],[0.8888888888888888,\"#fdca26\"],[1.0,\"#f0f921\"]]}],\"heatmapgl\":[{\"type\":\"heatmapgl\",\"colorbar\":{\"outlinewidth\":0,\"ticks\":\"\"},\"colorscale\":[[0.0,\"#0d0887\"],[0.1111111111111111,\"#46039f\"],[0.2222222222222222,\"#7201a8\"],[0.3333333333333333,\"#9c179e\"],[0.4444444444444444,\"#bd3786\"],[0.5555555555555556,\"#d8576b\"],[0.6666666666666666,\"#ed7953\"],[0.7777777777777778,\"#fb9f3a\"],[0.8888888888888888,\"#fdca26\"],[1.0,\"#f0f921\"]]}],\"contourcarpet\":[{\"type\":\"contourcarpet\",\"colorbar\":{\"outlinewidth\":0,\"ticks\":\"\"}}],\"contour\":[{\"type\":\"contour\",\"colorbar\":{\"outlinewidth\":0,\"ticks\":\"\"},\"colorscale\":[[0.0,\"#0d0887\"],[0.1111111111111111,\"#46039f\"],[0.2222222222222222,\"#7201a8\"],[0.3333333333333333,\"#9c179e\"],[0.4444444444444444,\"#bd3786\"],[0.5555555555555556,\"#d8576b\"],[0.6666666666666666,\"#ed7953\"],[0.7777777777777778,\"#fb9f3a\"],[0.8888888888888888,\"#fdca26\"],[1.0,\"#f0f921\"]]}],\"surface\":[{\"type\":\"surface\",\"colorbar\":{\"outlinewidth\":0,\"ticks\":\"\"},\"colorscale\":[[0.0,\"#0d0887\"],[0.1111111111111111,\"#46039f\"],[0.2222222222222222,\"#7201a8\"],[0.3333333333333333,\"#9c179e\"],[0.4444444444444444,\"#bd3786\"],[0.5555555555555556,\"#d8576b\"],[0.6666666666666666,\"#ed7953\"],[0.7777777777777778,\"#fb9f3a\"],[0.8888888888888888,\"#fdca26\"],[1.0,\"#f0f921\"]]}],\"mesh3d\":[{\"type\":\"mesh3d\",\"colorbar\":{\"outlinewidth\":0,\"ticks\":\"\"}}],\"scatter\":[{\"fillpattern\":{\"fillmode\":\"overlay\",\"size\":10,\"solidity\":0.2},\"type\":\"scatter\"}],\"parcoords\":[{\"type\":\"parcoords\",\"line\":{\"colorbar\":{\"outlinewidth\":0,\"ticks\":\"\"}}}],\"scatterpolargl\":[{\"type\":\"scatterpolargl\",\"marker\":{\"colorbar\":{\"outlinewidth\":0,\"ticks\":\"\"}}}],\"bar\":[{\"error_x\":{\"color\":\"#2a3f5f\"},\"error_y\":{\"color\":\"#2a3f5f\"},\"marker\":{\"line\":{\"color\":\"#E5ECF6\",\"width\":0.5},\"pattern\":{\"fillmode\":\"overlay\",\"size\":10,\"solidity\":0.2}},\"type\":\"bar\"}],\"scattergeo\":[{\"type\":\"scattergeo\",\"marker\":{\"colorbar\":{\"outlinewidth\":0,\"ticks\":\"\"}}}],\"scatterpolar\":[{\"type\":\"scatterpolar\",\"marker\":{\"colorbar\":{\"outlinewidth\":0,\"ticks\":\"\"}}}],\"histogram\":[{\"marker\":{\"pattern\":{\"fillmode\":\"overlay\",\"size\":10,\"solidity\":0.2}},\"type\":\"histogram\"}],\"scattergl\":[{\"type\":\"scattergl\",\"marker\":{\"colorbar\":{\"outlinewidth\":0,\"ticks\":\"\"}}}],\"scatter3d\":[{\"type\":\"scatter3d\",\"line\":{\"colorbar\":{\"outlinewidth\":0,\"ticks\":\"\"}},\"marker\":{\"colorbar\":{\"outlinewidth\":0,\"ticks\":\"\"}}}],\"scattermapbox\":[{\"type\":\"scattermapbox\",\"marker\":{\"colorbar\":{\"outlinewidth\":0,\"ticks\":\"\"}}}],\"scatterternary\":[{\"type\":\"scatterternary\",\"marker\":{\"colorbar\":{\"outlinewidth\":0,\"ticks\":\"\"}}}],\"scattercarpet\":[{\"type\":\"scattercarpet\",\"marker\":{\"colorbar\":{\"outlinewidth\":0,\"ticks\":\"\"}}}],\"carpet\":[{\"aaxis\":{\"endlinecolor\":\"#2a3f5f\",\"gridcolor\":\"white\",\"linecolor\":\"white\",\"minorgridcolor\":\"white\",\"startlinecolor\":\"#2a3f5f\"},\"baxis\":{\"endlinecolor\":\"#2a3f5f\",\"gridcolor\":\"white\",\"linecolor\":\"white\",\"minorgridcolor\":\"white\",\"startlinecolor\":\"#2a3f5f\"},\"type\":\"carpet\"}],\"table\":[{\"cells\":{\"fill\":{\"color\":\"#EBF0F8\"},\"line\":{\"color\":\"white\"}},\"header\":{\"fill\":{\"color\":\"#C8D4E3\"},\"line\":{\"color\":\"white\"}},\"type\":\"table\"}],\"barpolar\":[{\"marker\":{\"line\":{\"color\":\"#E5ECF6\",\"width\":0.5},\"pattern\":{\"fillmode\":\"overlay\",\"size\":10,\"solidity\":0.2}},\"type\":\"barpolar\"}],\"pie\":[{\"automargin\":true,\"type\":\"pie\"}]},\"layout\":{\"autotypenumbers\":\"strict\",\"colorway\":[\"#636efa\",\"#EF553B\",\"#00cc96\",\"#ab63fa\",\"#FFA15A\",\"#19d3f3\",\"#FF6692\",\"#B6E880\",\"#FF97FF\",\"#FECB52\"],\"font\":{\"color\":\"#2a3f5f\"},\"hovermode\":\"closest\",\"hoverlabel\":{\"align\":\"left\"},\"paper_bgcolor\":\"white\",\"plot_bgcolor\":\"#E5ECF6\",\"polar\":{\"bgcolor\":\"#E5ECF6\",\"angularaxis\":{\"gridcolor\":\"white\",\"linecolor\":\"white\",\"ticks\":\"\"},\"radialaxis\":{\"gridcolor\":\"white\",\"linecolor\":\"white\",\"ticks\":\"\"}},\"ternary\":{\"bgcolor\":\"#E5ECF6\",\"aaxis\":{\"gridcolor\":\"white\",\"linecolor\":\"white\",\"ticks\":\"\"},\"baxis\":{\"gridcolor\":\"white\",\"linecolor\":\"white\",\"ticks\":\"\"},\"caxis\":{\"gridcolor\":\"white\",\"linecolor\":\"white\",\"ticks\":\"\"}},\"coloraxis\":{\"colorbar\":{\"outlinewidth\":0,\"ticks\":\"\"}},\"colorscale\":{\"sequential\":[[0.0,\"#0d0887\"],[0.1111111111111111,\"#46039f\"],[0.2222222222222222,\"#7201a8\"],[0.3333333333333333,\"#9c179e\"],[0.4444444444444444,\"#bd3786\"],[0.5555555555555556,\"#d8576b\"],[0.6666666666666666,\"#ed7953\"],[0.7777777777777778,\"#fb9f3a\"],[0.8888888888888888,\"#fdca26\"],[1.0,\"#f0f921\"]],\"sequentialminus\":[[0.0,\"#0d0887\"],[0.1111111111111111,\"#46039f\"],[0.2222222222222222,\"#7201a8\"],[0.3333333333333333,\"#9c179e\"],[0.4444444444444444,\"#bd3786\"],[0.5555555555555556,\"#d8576b\"],[0.6666666666666666,\"#ed7953\"],[0.7777777777777778,\"#fb9f3a\"],[0.8888888888888888,\"#fdca26\"],[1.0,\"#f0f921\"]],\"diverging\":[[0,\"#8e0152\"],[0.1,\"#c51b7d\"],[0.2,\"#de77ae\"],[0.3,\"#f1b6da\"],[0.4,\"#fde0ef\"],[0.5,\"#f7f7f7\"],[0.6,\"#e6f5d0\"],[0.7,\"#b8e186\"],[0.8,\"#7fbc41\"],[0.9,\"#4d9221\"],[1,\"#276419\"]]},\"xaxis\":{\"gridcolor\":\"white\",\"linecolor\":\"white\",\"ticks\":\"\",\"title\":{\"standoff\":15},\"zerolinecolor\":\"white\",\"automargin\":true,\"zerolinewidth\":2},\"yaxis\":{\"gridcolor\":\"white\",\"linecolor\":\"white\",\"ticks\":\"\",\"title\":{\"standoff\":15},\"zerolinecolor\":\"white\",\"automargin\":true,\"zerolinewidth\":2},\"scene\":{\"xaxis\":{\"backgroundcolor\":\"#E5ECF6\",\"gridcolor\":\"white\",\"linecolor\":\"white\",\"showbackground\":true,\"ticks\":\"\",\"zerolinecolor\":\"white\",\"gridwidth\":2},\"yaxis\":{\"backgroundcolor\":\"#E5ECF6\",\"gridcolor\":\"white\",\"linecolor\":\"white\",\"showbackground\":true,\"ticks\":\"\",\"zerolinecolor\":\"white\",\"gridwidth\":2},\"zaxis\":{\"backgroundcolor\":\"#E5ECF6\",\"gridcolor\":\"white\",\"linecolor\":\"white\",\"showbackground\":true,\"ticks\":\"\",\"zerolinecolor\":\"white\",\"gridwidth\":2}},\"shapedefaults\":{\"line\":{\"color\":\"#2a3f5f\"}},\"annotationdefaults\":{\"arrowcolor\":\"#2a3f5f\",\"arrowhead\":0,\"arrowwidth\":1},\"geo\":{\"bgcolor\":\"white\",\"landcolor\":\"#E5ECF6\",\"subunitcolor\":\"white\",\"showland\":true,\"showlakes\":true,\"lakecolor\":\"white\"},\"title\":{\"x\":0.05},\"mapbox\":{\"style\":\"light\"}}},\"xaxis\":{\"anchor\":\"y\",\"domain\":[0.0,1.0],\"title\":{\"text\":\"\"},\"tickangle\":90},\"yaxis\":{\"anchor\":\"x\",\"domain\":[0.0,1.0],\"title\":{\"text\":\"\\ub2e8\\uc704(\\ub9cc\\uc6d0)\",\"font\":{\"size\":14}}},\"legend\":{\"title\":{\"text\":\"\\uad6c\\ubd84\"},\"tracegroupgap\":0,\"font\":{\"size\":12}},\"margin\":{\"t\":60},\"barmode\":\"group\",\"font\":{\"size\":14},\"title\":{\"text\":\"\\uc11c\\uc6b8\\ud2b9\\ubcc4\\uc2dc \\uc2dc\\uad70\\uad6c\\ubcc4 \\uc544\\ud30c\\ud2b8 \\ub9e4\\ub9e4(\\uc2e4\\uac70\\ub798\\uac00)\\u002f\\uc804\\uc6d4\\uc138(\\ubcf4\\uc99d\\uae08) \\ud3c9\\uade0\\uac12 \\u003cbr\\u003e\\u003csub\\u003e\\ub2e8\\uc704(\\ub9cc\\uc6d0)\\u003c\\u002fsup\\u003e\"},\"bargap\":0.15},                        {\"responsive\": true}                    ).then(function(){\n",
       "                            \n",
       "var gd = document.getElementById('8ef218a3-dd1a-4b57-8b03-4087a04b174e');\n",
       "var x = new MutationObserver(function (mutations, observer) {{\n",
       "        var display = window.getComputedStyle(gd).display;\n",
       "        if (!display || display === 'none') {{\n",
       "            console.log([gd, 'removed!']);\n",
       "            Plotly.purge(gd);\n",
       "            observer.disconnect();\n",
       "        }}\n",
       "}});\n",
       "\n",
       "// Listen for the removal of the full notebook cells\n",
       "var notebookContainer = gd.closest('#notebook-container');\n",
       "if (notebookContainer) {{\n",
       "    x.observe(notebookContainer, {childList: true});\n",
       "}}\n",
       "\n",
       "// Listen for the clearing of the current output cell\n",
       "var outputEl = gd.closest('.output');\n",
       "if (outputEl) {{\n",
       "    x.observe(outputEl, {childList: true});\n",
       "}}\n",
       "\n",
       "                        })                };                });            </script>        </div>"
      ]
     },
     "metadata": {},
     "output_type": "display_data"
    }
   ],
   "source": [
    "type_val = 'apt'\n",
    "sig_area ='서울특별시'\n",
    "year_val = 2021\n",
    "month_val = 1\n",
    "\n",
    "vis_trade_rent2(total, type_val, sig_area, year_val, month_val)"
   ]
  },
  {
   "cell_type": "code",
   "execution_count": 44,
   "id": "0640bfc1",
   "metadata": {},
   "outputs": [],
   "source": [
    "def vis_trade_rent3(total, type_val, sig_area, year_val, month_val):\n",
    "\n",
    "    type_dic = {'apt':'아파트', 'rh':'연립다세대','sh':'단독-다가구','offi':'오피스텔'}\n",
    "    type_nm = type_dic[type_val]\n",
    "    \n",
    "    total['년'] = total['년'].astype(int)\n",
    "    total['월'] = total['월'].astype(int)\n",
    "    total['mean'] = total['mean'].astype(int)\n",
    "    total['mean_2'] = total['mean'].apply(readNumber)\n",
    "\n",
    "    df1 = total[(total['시도명'] == sig_area) & \n",
    "                (total['년'] == year_val) & \n",
    "                (total['월'] == month_val) & \n",
    "                (total['타입'] == type_val)]\n",
    "\n",
    "\n",
    "    df1 = df1.sort_values(by = 'mean',ascending=False)\n",
    "\n",
    "\n",
    "    fig = go.Figure(data = [\n",
    "        go.Bar(name = '매매',\n",
    "               y = df1[df1['구분'] == '매매']['mean'], \n",
    "               x = df1[df1['구분'] == '매매']['시군구명'], \n",
    "               # marker_color='crimson',\n",
    "               marker_color='blue',\n",
    "               opacity=1,\n",
    "               marker_pattern_shape=\"-\",\n",
    "               text = df1[df1['구분'] == '매매']['mean_2'],\n",
    "               hovertemplate='%{text}만'\n",
    "              ),\n",
    "        go.Bar(name = '전세', \n",
    "               y = df1[df1['구분'] == '전세']['mean'], \n",
    "               x = df1[df1['구분'] == '전세']['시군구명'],\n",
    "#                marker_color='blue',\n",
    "               marker_color='red',\n",
    "               opacity=0.7,\n",
    "               marker_pattern_shape=\"x\",\n",
    "               text = df1[df1['구분'] == '전세']['mean_2'],\n",
    "               hovertemplate='%{text}만'\n",
    "              ),\n",
    "        go.Bar(name = '월세',\n",
    "               y = df1[df1['구분'] == '월세']['mean'], \n",
    "               x = df1[df1['구분'] == '월세']['시군구명'],\n",
    "#                marker_color='green',\n",
    "               marker_color='green',\n",
    "               opacity=0.3,\n",
    "               marker_pattern_shape=\"+\",\n",
    "               text = df1[df1['구분'] == '월세']['mean_2'],\n",
    "               hovertemplate='%{text}만'\n",
    "              ),\n",
    "    ])\n",
    "\n",
    "\n",
    "\n",
    "    fig.update_layout(\n",
    "        title= f'{sig_area} 시군구별 {type_nm} 매매(실거래가)/전월세(보증금) 평균 <br><sup>단위(만원)</sup>',\n",
    "        title_font_family=\"맑은고딕\",\n",
    "        title_font_size = 18,\n",
    "        hoverlabel=dict(\n",
    "            bgcolor='white',\n",
    "            font_size=15,\n",
    "        ),\n",
    "        hovermode=\"x unified\",\n",
    "        template='plotly', \n",
    "        xaxis_tickangle=90,\n",
    "        yaxis_tickformat = ',',\n",
    "        legend = dict(orientation = 'h', xanchor = \"center\", x = 0.85, y= 1.1), #Adjust legend position\n",
    "        barmode='group'\n",
    "    )\n",
    "\n",
    "    return(fig)"
   ]
  },
  {
   "cell_type": "code",
   "execution_count": 45,
   "id": "e0353f7c",
   "metadata": {},
   "outputs": [
    {
     "data": {
      "application/vnd.plotly.v1+json": {
       "config": {
        "plotlyServerURL": "https://plot.ly"
       },
       "data": [
        {
         "hovertemplate": "%{text}만",
         "marker": {
          "color": "blue",
          "pattern": {
           "shape": "-"
          }
         },
         "name": "매매",
         "opacity": 1,
         "text": [
          "4억 377",
          "3억 9,533",
          "3억 5,827",
          "3억 4,670",
          "3억 3,397",
          "3억 3,373",
          "3억 248",
          "2억 9,787",
          "2억 7,227",
          "2억 6,246",
          "2억 2,040",
          "1억 9,811",
          "1억 9,256",
          "1억 8,768",
          "1억 8,394",
          "1억 8,283"
         ],
         "type": "bar",
         "x": [
          "수영구",
          "해운대구",
          "강서구",
          "연제구",
          "남구",
          "동래구",
          "서구",
          "금정구",
          "부산진구",
          "기장군",
          "북구",
          "중구",
          "사하구",
          "동구",
          "사상구",
          "영도구"
         ],
         "y": [
          40377,
          39533,
          35827,
          34670,
          33397,
          33373,
          30248,
          29787,
          27227,
          26246,
          22040,
          19811,
          19256,
          18768,
          18394,
          18283
         ]
        },
        {
         "hovertemplate": "%{text}만",
         "marker": {
          "color": "red",
          "pattern": {
           "shape": "x"
          }
         },
         "name": "전세",
         "opacity": 0.7,
         "text": [
          "2억 8,253",
          "2억 7,701",
          "2억 7,244",
          "2억 7,153",
          "2억 6,417",
          "2억 5,058",
          "2억 2,208",
          "2억 1,370",
          "2억 1,279",
          "2억 1,271",
          "2억 844",
          "1억 8,356",
          "1억 7,636",
          "1억 7,055",
          "1억 5,318",
          "1억 3,780"
         ],
         "type": "bar",
         "x": [
          "동래구",
          "남구",
          "연제구",
          "해운대구",
          "수영구",
          "금정구",
          "동구",
          "부산진구",
          "서구",
          "기장군",
          "북구",
          "강서구",
          "사하구",
          "중구",
          "사상구",
          "영도구"
         ],
         "y": [
          28253,
          27701,
          27244,
          27153,
          26417,
          25058,
          22208,
          21370,
          21279,
          21271,
          20844,
          18356,
          17636,
          17055,
          15318,
          13780
         ]
        },
        {
         "hovertemplate": "%{text}만",
         "marker": {
          "color": "green",
          "pattern": {
           "shape": "+"
          }
         },
         "name": "월세",
         "opacity": 0.3,
         "text": [
          "7,345만",
          "6,635만",
          "6,563만",
          "6,402만",
          "6,343만",
          "5,984만",
          "5,886만",
          "5,746만",
          "4,625만",
          "4,084만",
          "3,973만",
          "3,866만",
          "3,557만",
          "3,460만",
          "2,814만",
          "2,495만"
         ],
         "type": "bar",
         "x": [
          "강서구",
          "동래구",
          "사하구",
          "해운대구",
          "서구",
          "연제구",
          "남구",
          "금정구",
          "북구",
          "수영구",
          "기장군",
          "중구",
          "사상구",
          "부산진구",
          "동구",
          "영도구"
         ],
         "y": [
          7345,
          6635,
          6563,
          6402,
          6343,
          5984,
          5886,
          5746,
          4625,
          4084,
          3973,
          3866,
          3557,
          3460,
          2814,
          2495
         ]
        }
       ],
       "layout": {
        "barmode": "group",
        "hoverlabel": {
         "bgcolor": "white",
         "font": {
          "size": 15
         }
        },
        "hovermode": "x unified",
        "legend": {
         "orientation": "h",
         "x": 0.85,
         "xanchor": "center",
         "y": 1.1
        },
        "template": {
         "data": {
          "bar": [
           {
            "error_x": {
             "color": "#2a3f5f"
            },
            "error_y": {
             "color": "#2a3f5f"
            },
            "marker": {
             "line": {
              "color": "#E5ECF6",
              "width": 0.5
             },
             "pattern": {
              "fillmode": "overlay",
              "size": 10,
              "solidity": 0.2
             }
            },
            "type": "bar"
           }
          ],
          "barpolar": [
           {
            "marker": {
             "line": {
              "color": "#E5ECF6",
              "width": 0.5
             },
             "pattern": {
              "fillmode": "overlay",
              "size": 10,
              "solidity": 0.2
             }
            },
            "type": "barpolar"
           }
          ],
          "carpet": [
           {
            "aaxis": {
             "endlinecolor": "#2a3f5f",
             "gridcolor": "white",
             "linecolor": "white",
             "minorgridcolor": "white",
             "startlinecolor": "#2a3f5f"
            },
            "baxis": {
             "endlinecolor": "#2a3f5f",
             "gridcolor": "white",
             "linecolor": "white",
             "minorgridcolor": "white",
             "startlinecolor": "#2a3f5f"
            },
            "type": "carpet"
           }
          ],
          "choropleth": [
           {
            "colorbar": {
             "outlinewidth": 0,
             "ticks": ""
            },
            "type": "choropleth"
           }
          ],
          "contour": [
           {
            "colorbar": {
             "outlinewidth": 0,
             "ticks": ""
            },
            "colorscale": [
             [
              0,
              "#0d0887"
             ],
             [
              0.1111111111111111,
              "#46039f"
             ],
             [
              0.2222222222222222,
              "#7201a8"
             ],
             [
              0.3333333333333333,
              "#9c179e"
             ],
             [
              0.4444444444444444,
              "#bd3786"
             ],
             [
              0.5555555555555556,
              "#d8576b"
             ],
             [
              0.6666666666666666,
              "#ed7953"
             ],
             [
              0.7777777777777778,
              "#fb9f3a"
             ],
             [
              0.8888888888888888,
              "#fdca26"
             ],
             [
              1,
              "#f0f921"
             ]
            ],
            "type": "contour"
           }
          ],
          "contourcarpet": [
           {
            "colorbar": {
             "outlinewidth": 0,
             "ticks": ""
            },
            "type": "contourcarpet"
           }
          ],
          "heatmap": [
           {
            "colorbar": {
             "outlinewidth": 0,
             "ticks": ""
            },
            "colorscale": [
             [
              0,
              "#0d0887"
             ],
             [
              0.1111111111111111,
              "#46039f"
             ],
             [
              0.2222222222222222,
              "#7201a8"
             ],
             [
              0.3333333333333333,
              "#9c179e"
             ],
             [
              0.4444444444444444,
              "#bd3786"
             ],
             [
              0.5555555555555556,
              "#d8576b"
             ],
             [
              0.6666666666666666,
              "#ed7953"
             ],
             [
              0.7777777777777778,
              "#fb9f3a"
             ],
             [
              0.8888888888888888,
              "#fdca26"
             ],
             [
              1,
              "#f0f921"
             ]
            ],
            "type": "heatmap"
           }
          ],
          "heatmapgl": [
           {
            "colorbar": {
             "outlinewidth": 0,
             "ticks": ""
            },
            "colorscale": [
             [
              0,
              "#0d0887"
             ],
             [
              0.1111111111111111,
              "#46039f"
             ],
             [
              0.2222222222222222,
              "#7201a8"
             ],
             [
              0.3333333333333333,
              "#9c179e"
             ],
             [
              0.4444444444444444,
              "#bd3786"
             ],
             [
              0.5555555555555556,
              "#d8576b"
             ],
             [
              0.6666666666666666,
              "#ed7953"
             ],
             [
              0.7777777777777778,
              "#fb9f3a"
             ],
             [
              0.8888888888888888,
              "#fdca26"
             ],
             [
              1,
              "#f0f921"
             ]
            ],
            "type": "heatmapgl"
           }
          ],
          "histogram": [
           {
            "marker": {
             "pattern": {
              "fillmode": "overlay",
              "size": 10,
              "solidity": 0.2
             }
            },
            "type": "histogram"
           }
          ],
          "histogram2d": [
           {
            "colorbar": {
             "outlinewidth": 0,
             "ticks": ""
            },
            "colorscale": [
             [
              0,
              "#0d0887"
             ],
             [
              0.1111111111111111,
              "#46039f"
             ],
             [
              0.2222222222222222,
              "#7201a8"
             ],
             [
              0.3333333333333333,
              "#9c179e"
             ],
             [
              0.4444444444444444,
              "#bd3786"
             ],
             [
              0.5555555555555556,
              "#d8576b"
             ],
             [
              0.6666666666666666,
              "#ed7953"
             ],
             [
              0.7777777777777778,
              "#fb9f3a"
             ],
             [
              0.8888888888888888,
              "#fdca26"
             ],
             [
              1,
              "#f0f921"
             ]
            ],
            "type": "histogram2d"
           }
          ],
          "histogram2dcontour": [
           {
            "colorbar": {
             "outlinewidth": 0,
             "ticks": ""
            },
            "colorscale": [
             [
              0,
              "#0d0887"
             ],
             [
              0.1111111111111111,
              "#46039f"
             ],
             [
              0.2222222222222222,
              "#7201a8"
             ],
             [
              0.3333333333333333,
              "#9c179e"
             ],
             [
              0.4444444444444444,
              "#bd3786"
             ],
             [
              0.5555555555555556,
              "#d8576b"
             ],
             [
              0.6666666666666666,
              "#ed7953"
             ],
             [
              0.7777777777777778,
              "#fb9f3a"
             ],
             [
              0.8888888888888888,
              "#fdca26"
             ],
             [
              1,
              "#f0f921"
             ]
            ],
            "type": "histogram2dcontour"
           }
          ],
          "mesh3d": [
           {
            "colorbar": {
             "outlinewidth": 0,
             "ticks": ""
            },
            "type": "mesh3d"
           }
          ],
          "parcoords": [
           {
            "line": {
             "colorbar": {
              "outlinewidth": 0,
              "ticks": ""
             }
            },
            "type": "parcoords"
           }
          ],
          "pie": [
           {
            "automargin": true,
            "type": "pie"
           }
          ],
          "scatter": [
           {
            "fillpattern": {
             "fillmode": "overlay",
             "size": 10,
             "solidity": 0.2
            },
            "type": "scatter"
           }
          ],
          "scatter3d": [
           {
            "line": {
             "colorbar": {
              "outlinewidth": 0,
              "ticks": ""
             }
            },
            "marker": {
             "colorbar": {
              "outlinewidth": 0,
              "ticks": ""
             }
            },
            "type": "scatter3d"
           }
          ],
          "scattercarpet": [
           {
            "marker": {
             "colorbar": {
              "outlinewidth": 0,
              "ticks": ""
             }
            },
            "type": "scattercarpet"
           }
          ],
          "scattergeo": [
           {
            "marker": {
             "colorbar": {
              "outlinewidth": 0,
              "ticks": ""
             }
            },
            "type": "scattergeo"
           }
          ],
          "scattergl": [
           {
            "marker": {
             "colorbar": {
              "outlinewidth": 0,
              "ticks": ""
             }
            },
            "type": "scattergl"
           }
          ],
          "scattermapbox": [
           {
            "marker": {
             "colorbar": {
              "outlinewidth": 0,
              "ticks": ""
             }
            },
            "type": "scattermapbox"
           }
          ],
          "scatterpolar": [
           {
            "marker": {
             "colorbar": {
              "outlinewidth": 0,
              "ticks": ""
             }
            },
            "type": "scatterpolar"
           }
          ],
          "scatterpolargl": [
           {
            "marker": {
             "colorbar": {
              "outlinewidth": 0,
              "ticks": ""
             }
            },
            "type": "scatterpolargl"
           }
          ],
          "scatterternary": [
           {
            "marker": {
             "colorbar": {
              "outlinewidth": 0,
              "ticks": ""
             }
            },
            "type": "scatterternary"
           }
          ],
          "surface": [
           {
            "colorbar": {
             "outlinewidth": 0,
             "ticks": ""
            },
            "colorscale": [
             [
              0,
              "#0d0887"
             ],
             [
              0.1111111111111111,
              "#46039f"
             ],
             [
              0.2222222222222222,
              "#7201a8"
             ],
             [
              0.3333333333333333,
              "#9c179e"
             ],
             [
              0.4444444444444444,
              "#bd3786"
             ],
             [
              0.5555555555555556,
              "#d8576b"
             ],
             [
              0.6666666666666666,
              "#ed7953"
             ],
             [
              0.7777777777777778,
              "#fb9f3a"
             ],
             [
              0.8888888888888888,
              "#fdca26"
             ],
             [
              1,
              "#f0f921"
             ]
            ],
            "type": "surface"
           }
          ],
          "table": [
           {
            "cells": {
             "fill": {
              "color": "#EBF0F8"
             },
             "line": {
              "color": "white"
             }
            },
            "header": {
             "fill": {
              "color": "#C8D4E3"
             },
             "line": {
              "color": "white"
             }
            },
            "type": "table"
           }
          ]
         },
         "layout": {
          "annotationdefaults": {
           "arrowcolor": "#2a3f5f",
           "arrowhead": 0,
           "arrowwidth": 1
          },
          "autotypenumbers": "strict",
          "coloraxis": {
           "colorbar": {
            "outlinewidth": 0,
            "ticks": ""
           }
          },
          "colorscale": {
           "diverging": [
            [
             0,
             "#8e0152"
            ],
            [
             0.1,
             "#c51b7d"
            ],
            [
             0.2,
             "#de77ae"
            ],
            [
             0.3,
             "#f1b6da"
            ],
            [
             0.4,
             "#fde0ef"
            ],
            [
             0.5,
             "#f7f7f7"
            ],
            [
             0.6,
             "#e6f5d0"
            ],
            [
             0.7,
             "#b8e186"
            ],
            [
             0.8,
             "#7fbc41"
            ],
            [
             0.9,
             "#4d9221"
            ],
            [
             1,
             "#276419"
            ]
           ],
           "sequential": [
            [
             0,
             "#0d0887"
            ],
            [
             0.1111111111111111,
             "#46039f"
            ],
            [
             0.2222222222222222,
             "#7201a8"
            ],
            [
             0.3333333333333333,
             "#9c179e"
            ],
            [
             0.4444444444444444,
             "#bd3786"
            ],
            [
             0.5555555555555556,
             "#d8576b"
            ],
            [
             0.6666666666666666,
             "#ed7953"
            ],
            [
             0.7777777777777778,
             "#fb9f3a"
            ],
            [
             0.8888888888888888,
             "#fdca26"
            ],
            [
             1,
             "#f0f921"
            ]
           ],
           "sequentialminus": [
            [
             0,
             "#0d0887"
            ],
            [
             0.1111111111111111,
             "#46039f"
            ],
            [
             0.2222222222222222,
             "#7201a8"
            ],
            [
             0.3333333333333333,
             "#9c179e"
            ],
            [
             0.4444444444444444,
             "#bd3786"
            ],
            [
             0.5555555555555556,
             "#d8576b"
            ],
            [
             0.6666666666666666,
             "#ed7953"
            ],
            [
             0.7777777777777778,
             "#fb9f3a"
            ],
            [
             0.8888888888888888,
             "#fdca26"
            ],
            [
             1,
             "#f0f921"
            ]
           ]
          },
          "colorway": [
           "#636efa",
           "#EF553B",
           "#00cc96",
           "#ab63fa",
           "#FFA15A",
           "#19d3f3",
           "#FF6692",
           "#B6E880",
           "#FF97FF",
           "#FECB52"
          ],
          "font": {
           "color": "#2a3f5f"
          },
          "geo": {
           "bgcolor": "white",
           "lakecolor": "white",
           "landcolor": "#E5ECF6",
           "showlakes": true,
           "showland": true,
           "subunitcolor": "white"
          },
          "hoverlabel": {
           "align": "left"
          },
          "hovermode": "closest",
          "mapbox": {
           "style": "light"
          },
          "paper_bgcolor": "white",
          "plot_bgcolor": "#E5ECF6",
          "polar": {
           "angularaxis": {
            "gridcolor": "white",
            "linecolor": "white",
            "ticks": ""
           },
           "bgcolor": "#E5ECF6",
           "radialaxis": {
            "gridcolor": "white",
            "linecolor": "white",
            "ticks": ""
           }
          },
          "scene": {
           "xaxis": {
            "backgroundcolor": "#E5ECF6",
            "gridcolor": "white",
            "gridwidth": 2,
            "linecolor": "white",
            "showbackground": true,
            "ticks": "",
            "zerolinecolor": "white"
           },
           "yaxis": {
            "backgroundcolor": "#E5ECF6",
            "gridcolor": "white",
            "gridwidth": 2,
            "linecolor": "white",
            "showbackground": true,
            "ticks": "",
            "zerolinecolor": "white"
           },
           "zaxis": {
            "backgroundcolor": "#E5ECF6",
            "gridcolor": "white",
            "gridwidth": 2,
            "linecolor": "white",
            "showbackground": true,
            "ticks": "",
            "zerolinecolor": "white"
           }
          },
          "shapedefaults": {
           "line": {
            "color": "#2a3f5f"
           }
          },
          "ternary": {
           "aaxis": {
            "gridcolor": "white",
            "linecolor": "white",
            "ticks": ""
           },
           "baxis": {
            "gridcolor": "white",
            "linecolor": "white",
            "ticks": ""
           },
           "bgcolor": "#E5ECF6",
           "caxis": {
            "gridcolor": "white",
            "linecolor": "white",
            "ticks": ""
           }
          },
          "title": {
           "x": 0.05
          },
          "xaxis": {
           "automargin": true,
           "gridcolor": "white",
           "linecolor": "white",
           "ticks": "",
           "title": {
            "standoff": 15
           },
           "zerolinecolor": "white",
           "zerolinewidth": 2
          },
          "yaxis": {
           "automargin": true,
           "gridcolor": "white",
           "linecolor": "white",
           "ticks": "",
           "title": {
            "standoff": 15
           },
           "zerolinecolor": "white",
           "zerolinewidth": 2
          }
         }
        },
        "title": {
         "font": {
          "family": "맑은고딕",
          "size": 18
         },
         "text": "부산광역시 시군구별 아파트 매매(실거래가)/전월세(보증금) 평균 <br><sup>단위(만원)</sup>"
        },
        "xaxis": {
         "tickangle": 90
        },
        "yaxis": {
         "tickformat": ","
        }
       }
      },
      "text/html": [
       "<div>                            <div id=\"6c8ff437-8f2a-48e7-8ab8-42c3340d62f5\" class=\"plotly-graph-div\" style=\"height:525px; width:100%;\"></div>            <script type=\"text/javascript\">                require([\"plotly\"], function(Plotly) {                    window.PLOTLYENV=window.PLOTLYENV || {};                                    if (document.getElementById(\"6c8ff437-8f2a-48e7-8ab8-42c3340d62f5\")) {                    Plotly.newPlot(                        \"6c8ff437-8f2a-48e7-8ab8-42c3340d62f5\",                        [{\"hovertemplate\":\"%{text}\\ub9cc\",\"marker\":{\"color\":\"blue\",\"pattern\":{\"shape\":\"-\"}},\"name\":\"\\ub9e4\\ub9e4\",\"opacity\":1,\"text\":[\"4\\uc5b5 377\",\"3\\uc5b5 9,533\",\"3\\uc5b5 5,827\",\"3\\uc5b5 4,670\",\"3\\uc5b5 3,397\",\"3\\uc5b5 3,373\",\"3\\uc5b5 248\",\"2\\uc5b5 9,787\",\"2\\uc5b5 7,227\",\"2\\uc5b5 6,246\",\"2\\uc5b5 2,040\",\"1\\uc5b5 9,811\",\"1\\uc5b5 9,256\",\"1\\uc5b5 8,768\",\"1\\uc5b5 8,394\",\"1\\uc5b5 8,283\"],\"x\":[\"\\uc218\\uc601\\uad6c\",\"\\ud574\\uc6b4\\ub300\\uad6c\",\"\\uac15\\uc11c\\uad6c\",\"\\uc5f0\\uc81c\\uad6c\",\"\\ub0a8\\uad6c\",\"\\ub3d9\\ub798\\uad6c\",\"\\uc11c\\uad6c\",\"\\uae08\\uc815\\uad6c\",\"\\ubd80\\uc0b0\\uc9c4\\uad6c\",\"\\uae30\\uc7a5\\uad70\",\"\\ubd81\\uad6c\",\"\\uc911\\uad6c\",\"\\uc0ac\\ud558\\uad6c\",\"\\ub3d9\\uad6c\",\"\\uc0ac\\uc0c1\\uad6c\",\"\\uc601\\ub3c4\\uad6c\"],\"y\":[40377,39533,35827,34670,33397,33373,30248,29787,27227,26246,22040,19811,19256,18768,18394,18283],\"type\":\"bar\"},{\"hovertemplate\":\"%{text}\\ub9cc\",\"marker\":{\"color\":\"red\",\"pattern\":{\"shape\":\"x\"}},\"name\":\"\\uc804\\uc138\",\"opacity\":0.7,\"text\":[\"2\\uc5b5 8,253\",\"2\\uc5b5 7,701\",\"2\\uc5b5 7,244\",\"2\\uc5b5 7,153\",\"2\\uc5b5 6,417\",\"2\\uc5b5 5,058\",\"2\\uc5b5 2,208\",\"2\\uc5b5 1,370\",\"2\\uc5b5 1,279\",\"2\\uc5b5 1,271\",\"2\\uc5b5 844\",\"1\\uc5b5 8,356\",\"1\\uc5b5 7,636\",\"1\\uc5b5 7,055\",\"1\\uc5b5 5,318\",\"1\\uc5b5 3,780\"],\"x\":[\"\\ub3d9\\ub798\\uad6c\",\"\\ub0a8\\uad6c\",\"\\uc5f0\\uc81c\\uad6c\",\"\\ud574\\uc6b4\\ub300\\uad6c\",\"\\uc218\\uc601\\uad6c\",\"\\uae08\\uc815\\uad6c\",\"\\ub3d9\\uad6c\",\"\\ubd80\\uc0b0\\uc9c4\\uad6c\",\"\\uc11c\\uad6c\",\"\\uae30\\uc7a5\\uad70\",\"\\ubd81\\uad6c\",\"\\uac15\\uc11c\\uad6c\",\"\\uc0ac\\ud558\\uad6c\",\"\\uc911\\uad6c\",\"\\uc0ac\\uc0c1\\uad6c\",\"\\uc601\\ub3c4\\uad6c\"],\"y\":[28253,27701,27244,27153,26417,25058,22208,21370,21279,21271,20844,18356,17636,17055,15318,13780],\"type\":\"bar\"},{\"hovertemplate\":\"%{text}\\ub9cc\",\"marker\":{\"color\":\"green\",\"pattern\":{\"shape\":\"+\"}},\"name\":\"\\uc6d4\\uc138\",\"opacity\":0.3,\"text\":[\"7,345\\ub9cc\",\"6,635\\ub9cc\",\"6,563\\ub9cc\",\"6,402\\ub9cc\",\"6,343\\ub9cc\",\"5,984\\ub9cc\",\"5,886\\ub9cc\",\"5,746\\ub9cc\",\"4,625\\ub9cc\",\"4,084\\ub9cc\",\"3,973\\ub9cc\",\"3,866\\ub9cc\",\"3,557\\ub9cc\",\"3,460\\ub9cc\",\"2,814\\ub9cc\",\"2,495\\ub9cc\"],\"x\":[\"\\uac15\\uc11c\\uad6c\",\"\\ub3d9\\ub798\\uad6c\",\"\\uc0ac\\ud558\\uad6c\",\"\\ud574\\uc6b4\\ub300\\uad6c\",\"\\uc11c\\uad6c\",\"\\uc5f0\\uc81c\\uad6c\",\"\\ub0a8\\uad6c\",\"\\uae08\\uc815\\uad6c\",\"\\ubd81\\uad6c\",\"\\uc218\\uc601\\uad6c\",\"\\uae30\\uc7a5\\uad70\",\"\\uc911\\uad6c\",\"\\uc0ac\\uc0c1\\uad6c\",\"\\ubd80\\uc0b0\\uc9c4\\uad6c\",\"\\ub3d9\\uad6c\",\"\\uc601\\ub3c4\\uad6c\"],\"y\":[7345,6635,6563,6402,6343,5984,5886,5746,4625,4084,3973,3866,3557,3460,2814,2495],\"type\":\"bar\"}],                        {\"template\":{\"data\":{\"histogram2dcontour\":[{\"type\":\"histogram2dcontour\",\"colorbar\":{\"outlinewidth\":0,\"ticks\":\"\"},\"colorscale\":[[0.0,\"#0d0887\"],[0.1111111111111111,\"#46039f\"],[0.2222222222222222,\"#7201a8\"],[0.3333333333333333,\"#9c179e\"],[0.4444444444444444,\"#bd3786\"],[0.5555555555555556,\"#d8576b\"],[0.6666666666666666,\"#ed7953\"],[0.7777777777777778,\"#fb9f3a\"],[0.8888888888888888,\"#fdca26\"],[1.0,\"#f0f921\"]]}],\"choropleth\":[{\"type\":\"choropleth\",\"colorbar\":{\"outlinewidth\":0,\"ticks\":\"\"}}],\"histogram2d\":[{\"type\":\"histogram2d\",\"colorbar\":{\"outlinewidth\":0,\"ticks\":\"\"},\"colorscale\":[[0.0,\"#0d0887\"],[0.1111111111111111,\"#46039f\"],[0.2222222222222222,\"#7201a8\"],[0.3333333333333333,\"#9c179e\"],[0.4444444444444444,\"#bd3786\"],[0.5555555555555556,\"#d8576b\"],[0.6666666666666666,\"#ed7953\"],[0.7777777777777778,\"#fb9f3a\"],[0.8888888888888888,\"#fdca26\"],[1.0,\"#f0f921\"]]}],\"heatmap\":[{\"type\":\"heatmap\",\"colorbar\":{\"outlinewidth\":0,\"ticks\":\"\"},\"colorscale\":[[0.0,\"#0d0887\"],[0.1111111111111111,\"#46039f\"],[0.2222222222222222,\"#7201a8\"],[0.3333333333333333,\"#9c179e\"],[0.4444444444444444,\"#bd3786\"],[0.5555555555555556,\"#d8576b\"],[0.6666666666666666,\"#ed7953\"],[0.7777777777777778,\"#fb9f3a\"],[0.8888888888888888,\"#fdca26\"],[1.0,\"#f0f921\"]]}],\"heatmapgl\":[{\"type\":\"heatmapgl\",\"colorbar\":{\"outlinewidth\":0,\"ticks\":\"\"},\"colorscale\":[[0.0,\"#0d0887\"],[0.1111111111111111,\"#46039f\"],[0.2222222222222222,\"#7201a8\"],[0.3333333333333333,\"#9c179e\"],[0.4444444444444444,\"#bd3786\"],[0.5555555555555556,\"#d8576b\"],[0.6666666666666666,\"#ed7953\"],[0.7777777777777778,\"#fb9f3a\"],[0.8888888888888888,\"#fdca26\"],[1.0,\"#f0f921\"]]}],\"contourcarpet\":[{\"type\":\"contourcarpet\",\"colorbar\":{\"outlinewidth\":0,\"ticks\":\"\"}}],\"contour\":[{\"type\":\"contour\",\"colorbar\":{\"outlinewidth\":0,\"ticks\":\"\"},\"colorscale\":[[0.0,\"#0d0887\"],[0.1111111111111111,\"#46039f\"],[0.2222222222222222,\"#7201a8\"],[0.3333333333333333,\"#9c179e\"],[0.4444444444444444,\"#bd3786\"],[0.5555555555555556,\"#d8576b\"],[0.6666666666666666,\"#ed7953\"],[0.7777777777777778,\"#fb9f3a\"],[0.8888888888888888,\"#fdca26\"],[1.0,\"#f0f921\"]]}],\"surface\":[{\"type\":\"surface\",\"colorbar\":{\"outlinewidth\":0,\"ticks\":\"\"},\"colorscale\":[[0.0,\"#0d0887\"],[0.1111111111111111,\"#46039f\"],[0.2222222222222222,\"#7201a8\"],[0.3333333333333333,\"#9c179e\"],[0.4444444444444444,\"#bd3786\"],[0.5555555555555556,\"#d8576b\"],[0.6666666666666666,\"#ed7953\"],[0.7777777777777778,\"#fb9f3a\"],[0.8888888888888888,\"#fdca26\"],[1.0,\"#f0f921\"]]}],\"mesh3d\":[{\"type\":\"mesh3d\",\"colorbar\":{\"outlinewidth\":0,\"ticks\":\"\"}}],\"scatter\":[{\"fillpattern\":{\"fillmode\":\"overlay\",\"size\":10,\"solidity\":0.2},\"type\":\"scatter\"}],\"parcoords\":[{\"type\":\"parcoords\",\"line\":{\"colorbar\":{\"outlinewidth\":0,\"ticks\":\"\"}}}],\"scatterpolargl\":[{\"type\":\"scatterpolargl\",\"marker\":{\"colorbar\":{\"outlinewidth\":0,\"ticks\":\"\"}}}],\"bar\":[{\"error_x\":{\"color\":\"#2a3f5f\"},\"error_y\":{\"color\":\"#2a3f5f\"},\"marker\":{\"line\":{\"color\":\"#E5ECF6\",\"width\":0.5},\"pattern\":{\"fillmode\":\"overlay\",\"size\":10,\"solidity\":0.2}},\"type\":\"bar\"}],\"scattergeo\":[{\"type\":\"scattergeo\",\"marker\":{\"colorbar\":{\"outlinewidth\":0,\"ticks\":\"\"}}}],\"scatterpolar\":[{\"type\":\"scatterpolar\",\"marker\":{\"colorbar\":{\"outlinewidth\":0,\"ticks\":\"\"}}}],\"histogram\":[{\"marker\":{\"pattern\":{\"fillmode\":\"overlay\",\"size\":10,\"solidity\":0.2}},\"type\":\"histogram\"}],\"scattergl\":[{\"type\":\"scattergl\",\"marker\":{\"colorbar\":{\"outlinewidth\":0,\"ticks\":\"\"}}}],\"scatter3d\":[{\"type\":\"scatter3d\",\"line\":{\"colorbar\":{\"outlinewidth\":0,\"ticks\":\"\"}},\"marker\":{\"colorbar\":{\"outlinewidth\":0,\"ticks\":\"\"}}}],\"scattermapbox\":[{\"type\":\"scattermapbox\",\"marker\":{\"colorbar\":{\"outlinewidth\":0,\"ticks\":\"\"}}}],\"scatterternary\":[{\"type\":\"scatterternary\",\"marker\":{\"colorbar\":{\"outlinewidth\":0,\"ticks\":\"\"}}}],\"scattercarpet\":[{\"type\":\"scattercarpet\",\"marker\":{\"colorbar\":{\"outlinewidth\":0,\"ticks\":\"\"}}}],\"carpet\":[{\"aaxis\":{\"endlinecolor\":\"#2a3f5f\",\"gridcolor\":\"white\",\"linecolor\":\"white\",\"minorgridcolor\":\"white\",\"startlinecolor\":\"#2a3f5f\"},\"baxis\":{\"endlinecolor\":\"#2a3f5f\",\"gridcolor\":\"white\",\"linecolor\":\"white\",\"minorgridcolor\":\"white\",\"startlinecolor\":\"#2a3f5f\"},\"type\":\"carpet\"}],\"table\":[{\"cells\":{\"fill\":{\"color\":\"#EBF0F8\"},\"line\":{\"color\":\"white\"}},\"header\":{\"fill\":{\"color\":\"#C8D4E3\"},\"line\":{\"color\":\"white\"}},\"type\":\"table\"}],\"barpolar\":[{\"marker\":{\"line\":{\"color\":\"#E5ECF6\",\"width\":0.5},\"pattern\":{\"fillmode\":\"overlay\",\"size\":10,\"solidity\":0.2}},\"type\":\"barpolar\"}],\"pie\":[{\"automargin\":true,\"type\":\"pie\"}]},\"layout\":{\"autotypenumbers\":\"strict\",\"colorway\":[\"#636efa\",\"#EF553B\",\"#00cc96\",\"#ab63fa\",\"#FFA15A\",\"#19d3f3\",\"#FF6692\",\"#B6E880\",\"#FF97FF\",\"#FECB52\"],\"font\":{\"color\":\"#2a3f5f\"},\"hovermode\":\"closest\",\"hoverlabel\":{\"align\":\"left\"},\"paper_bgcolor\":\"white\",\"plot_bgcolor\":\"#E5ECF6\",\"polar\":{\"bgcolor\":\"#E5ECF6\",\"angularaxis\":{\"gridcolor\":\"white\",\"linecolor\":\"white\",\"ticks\":\"\"},\"radialaxis\":{\"gridcolor\":\"white\",\"linecolor\":\"white\",\"ticks\":\"\"}},\"ternary\":{\"bgcolor\":\"#E5ECF6\",\"aaxis\":{\"gridcolor\":\"white\",\"linecolor\":\"white\",\"ticks\":\"\"},\"baxis\":{\"gridcolor\":\"white\",\"linecolor\":\"white\",\"ticks\":\"\"},\"caxis\":{\"gridcolor\":\"white\",\"linecolor\":\"white\",\"ticks\":\"\"}},\"coloraxis\":{\"colorbar\":{\"outlinewidth\":0,\"ticks\":\"\"}},\"colorscale\":{\"sequential\":[[0.0,\"#0d0887\"],[0.1111111111111111,\"#46039f\"],[0.2222222222222222,\"#7201a8\"],[0.3333333333333333,\"#9c179e\"],[0.4444444444444444,\"#bd3786\"],[0.5555555555555556,\"#d8576b\"],[0.6666666666666666,\"#ed7953\"],[0.7777777777777778,\"#fb9f3a\"],[0.8888888888888888,\"#fdca26\"],[1.0,\"#f0f921\"]],\"sequentialminus\":[[0.0,\"#0d0887\"],[0.1111111111111111,\"#46039f\"],[0.2222222222222222,\"#7201a8\"],[0.3333333333333333,\"#9c179e\"],[0.4444444444444444,\"#bd3786\"],[0.5555555555555556,\"#d8576b\"],[0.6666666666666666,\"#ed7953\"],[0.7777777777777778,\"#fb9f3a\"],[0.8888888888888888,\"#fdca26\"],[1.0,\"#f0f921\"]],\"diverging\":[[0,\"#8e0152\"],[0.1,\"#c51b7d\"],[0.2,\"#de77ae\"],[0.3,\"#f1b6da\"],[0.4,\"#fde0ef\"],[0.5,\"#f7f7f7\"],[0.6,\"#e6f5d0\"],[0.7,\"#b8e186\"],[0.8,\"#7fbc41\"],[0.9,\"#4d9221\"],[1,\"#276419\"]]},\"xaxis\":{\"gridcolor\":\"white\",\"linecolor\":\"white\",\"ticks\":\"\",\"title\":{\"standoff\":15},\"zerolinecolor\":\"white\",\"automargin\":true,\"zerolinewidth\":2},\"yaxis\":{\"gridcolor\":\"white\",\"linecolor\":\"white\",\"ticks\":\"\",\"title\":{\"standoff\":15},\"zerolinecolor\":\"white\",\"automargin\":true,\"zerolinewidth\":2},\"scene\":{\"xaxis\":{\"backgroundcolor\":\"#E5ECF6\",\"gridcolor\":\"white\",\"linecolor\":\"white\",\"showbackground\":true,\"ticks\":\"\",\"zerolinecolor\":\"white\",\"gridwidth\":2},\"yaxis\":{\"backgroundcolor\":\"#E5ECF6\",\"gridcolor\":\"white\",\"linecolor\":\"white\",\"showbackground\":true,\"ticks\":\"\",\"zerolinecolor\":\"white\",\"gridwidth\":2},\"zaxis\":{\"backgroundcolor\":\"#E5ECF6\",\"gridcolor\":\"white\",\"linecolor\":\"white\",\"showbackground\":true,\"ticks\":\"\",\"zerolinecolor\":\"white\",\"gridwidth\":2}},\"shapedefaults\":{\"line\":{\"color\":\"#2a3f5f\"}},\"annotationdefaults\":{\"arrowcolor\":\"#2a3f5f\",\"arrowhead\":0,\"arrowwidth\":1},\"geo\":{\"bgcolor\":\"white\",\"landcolor\":\"#E5ECF6\",\"subunitcolor\":\"white\",\"showland\":true,\"showlakes\":true,\"lakecolor\":\"white\"},\"title\":{\"x\":0.05},\"mapbox\":{\"style\":\"light\"}}},\"title\":{\"text\":\"\\ubd80\\uc0b0\\uad11\\uc5ed\\uc2dc \\uc2dc\\uad70\\uad6c\\ubcc4 \\uc544\\ud30c\\ud2b8 \\ub9e4\\ub9e4(\\uc2e4\\uac70\\ub798\\uac00)\\u002f\\uc804\\uc6d4\\uc138(\\ubcf4\\uc99d\\uae08) \\ud3c9\\uade0 \\u003cbr\\u003e\\u003csup\\u003e\\ub2e8\\uc704(\\ub9cc\\uc6d0)\\u003c\\u002fsup\\u003e\",\"font\":{\"family\":\"\\ub9d1\\uc740\\uace0\\ub515\",\"size\":18}},\"hoverlabel\":{\"font\":{\"size\":15},\"bgcolor\":\"white\"},\"xaxis\":{\"tickangle\":90},\"yaxis\":{\"tickformat\":\",\"},\"legend\":{\"orientation\":\"h\",\"xanchor\":\"center\",\"x\":0.85,\"y\":1.1},\"hovermode\":\"x unified\",\"barmode\":\"group\"},                        {\"responsive\": true}                    ).then(function(){\n",
       "                            \n",
       "var gd = document.getElementById('6c8ff437-8f2a-48e7-8ab8-42c3340d62f5');\n",
       "var x = new MutationObserver(function (mutations, observer) {{\n",
       "        var display = window.getComputedStyle(gd).display;\n",
       "        if (!display || display === 'none') {{\n",
       "            console.log([gd, 'removed!']);\n",
       "            Plotly.purge(gd);\n",
       "            observer.disconnect();\n",
       "        }}\n",
       "}});\n",
       "\n",
       "// Listen for the removal of the full notebook cells\n",
       "var notebookContainer = gd.closest('#notebook-container');\n",
       "if (notebookContainer) {{\n",
       "    x.observe(notebookContainer, {childList: true});\n",
       "}}\n",
       "\n",
       "// Listen for the clearing of the current output cell\n",
       "var outputEl = gd.closest('.output');\n",
       "if (outputEl) {{\n",
       "    x.observe(outputEl, {childList: true});\n",
       "}}\n",
       "\n",
       "                        })                };                });            </script>        </div>"
      ]
     },
     "metadata": {},
     "output_type": "display_data"
    }
   ],
   "source": [
    "type_val = 'apt'\n",
    "sig_area ='부산광역시'\n",
    "year_val = 2021\n",
    "month_val = 1\n",
    "\n",
    "df_region = vis_trade_rent3(total, type_val, sig_area, year_val, month_val)\n",
    "df_region"
   ]
  },
  {
   "cell_type": "code",
   "execution_count": null,
   "id": "07051601",
   "metadata": {},
   "outputs": [],
   "source": []
  }
 ],
 "metadata": {
  "kernelspec": {
   "display_name": "python_data_analyst",
   "language": "python",
   "name": "python_data_analyst"
  },
  "language_info": {
   "codemirror_mode": {
    "name": "ipython",
    "version": 3
   },
   "file_extension": ".py",
   "mimetype": "text/x-python",
   "name": "python",
   "nbconvert_exporter": "python",
   "pygments_lexer": "ipython3",
   "version": "3.8.18"
  }
 },
 "nbformat": 4,
 "nbformat_minor": 5
}
