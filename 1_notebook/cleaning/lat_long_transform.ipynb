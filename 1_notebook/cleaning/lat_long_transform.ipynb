{
 "cells": [
  {
   "cell_type": "code",
   "execution_count": 1,
   "id": "a2d806b2",
   "metadata": {},
   "outputs": [],
   "source": [
    "import json\n",
    "import requests"
   ]
  },
  {
   "cell_type": "code",
   "execution_count": 2,
   "id": "f6438b27",
   "metadata": {},
   "outputs": [],
   "source": [
    "api_key = '4512a1478c5eaeeef7f1f3c1b88218e7'\n",
    "\n",
    "# 주소 -> 위경도 추출하는 함수\n",
    "def addr_to_lat_lon(address):\n",
    "    url = f'https://dapi.kakao.com/v2/local/search/address.json?query={address}'\n",
    "    headers = {\"Authorization\": \"KakaoAK \" + api_key}\n",
    "    result = json.loads(str(requests.get(url, headers=headers).text))\n",
    "    match_first = result['documents'][0]['address']\n",
    "    return float(match_first['x']), float(match_first['y'])\n",
    "\n",
    "# 위경도 -> 주소 추출하는 함수\n",
    "def lat_lon_to_addr(lon,lat):\n",
    "    url = f'https://dapi.kakao.com/v2/local/geo/coord2regioncode.json?x={lon}&y={lat}'\n",
    "    headers = {\"Authorization\": \"KakaoAK \" + api_key}\n",
    "    result = json.loads(str(requests.get(url, headers=headers).text))\n",
    "    match_first = result['documents'][0]['address_name']\n",
    "    return str(match_first)"
   ]
  },
  {
   "cell_type": "code",
   "execution_count": 3,
   "id": "a7988d1c",
   "metadata": {},
   "outputs": [
    {
     "data": {
      "text/plain": [
       "(126.967749538039, 37.5778012532177)"
      ]
     },
     "execution_count": 3,
     "metadata": {},
     "output_type": "execute_result"
    }
   ],
   "source": [
    "addr_to_lat_lon('서울특별시 종로구 필운동\t')"
   ]
  },
  {
   "cell_type": "code",
   "execution_count": 4,
   "id": "1a7b8318",
   "metadata": {},
   "outputs": [
    {
     "data": {
      "text/plain": [
       "'서울특별시 종로구 필운동'"
      ]
     },
     "execution_count": 4,
     "metadata": {},
     "output_type": "execute_result"
    }
   ],
   "source": [
    "lat_lon_to_addr(126.967749538039, 37.5778012532177)"
   ]
  }
 ],
 "metadata": {
  "kernelspec": {
   "display_name": "aws",
   "language": "python",
   "name": "aws"
  },
  "language_info": {
   "codemirror_mode": {
    "name": "ipython",
    "version": 3
   },
   "file_extension": ".py",
   "mimetype": "text/x-python",
   "name": "python",
   "nbconvert_exporter": "python",
   "pygments_lexer": "ipython3",
   "version": "3.11.5"
  }
 },
 "nbformat": 4,
 "nbformat_minor": 5
}
