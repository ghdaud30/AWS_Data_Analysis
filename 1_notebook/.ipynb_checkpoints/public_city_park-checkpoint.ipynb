{
 "cells": [
  {
   "cell_type": "code",
   "execution_count": 3,
   "id": "b18579ff",
   "metadata": {},
   "outputs": [
    {
     "name": "stdout",
     "output_type": "stream",
     "text": [
      "/home/ubuntu/real_estate_dashboard\n"
     ]
    }
   ],
   "source": [
    "import json\n",
    "import urllib.request\n",
    "import pandas as pd\n",
    "import os \n",
    "import math\n",
    "\n",
    "os.chdir('/home/ubuntu/real_estate_dashboard')\n",
    "print(os.getcwd())"
   ]
  },
  {
   "cell_type": "code",
   "execution_count": 4,
   "id": "2e538993",
   "metadata": {},
   "outputs": [
    {
     "data": {
      "text/plain": [
       "{'response': {'header': {'resultCode': '30',\n",
       "   'resultMsg': 'SERVICE KEY IS NOT REGISTERED ERROR.'}}}"
      ]
     },
     "execution_count": 4,
     "metadata": {},
     "output_type": "execute_result"
    }
   ],
   "source": [
    "# API 키 세팅\n",
    "api_key = 'odgWuZqEkLq3B8i3URl%2BvXJl42Lr61W8sPd0edRlzlvelJmFSPtJ%2B%2BpdQXpU8lhVdGN1yvYOHsuRJNH8G3m6aQ%3D%3D'\n",
    "\n",
    "url = 'http://api.data.go.kr/openapi/tn_pubr_public_cty_park_info_api'\n",
    "\n",
    "# 요청변수 파라미터 설정\n",
    "params = \"?\" + \\\n",
    "        \"serviceKey=\" + api_key + \"&\" + \\\n",
    "        \"pageNo=\" + \"1\" + \"&\" + \\\n",
    "        \"numOfRows=\" + \"1\" + \"&\" + \\\n",
    "        \"type=\" + \"json\"\n",
    "\n",
    "response = urllib.request.urlopen(url + params)\n",
    "response_message = response.read().decode('utf8')\n",
    "\n",
    "data = json.loads(response_message)\n",
    "data"
   ]
  },
  {
   "cell_type": "code",
   "execution_count": null,
   "id": "e1d637f9",
   "metadata": {},
   "outputs": [],
   "source": [
    "totalcount = data['response']['body']['totalCount']\n",
    "totalcount = int(totalcount)\n",
    "totalcount"
   ]
  },
  {
   "cell_type": "code",
   "execution_count": null,
   "id": "3a1816d0",
   "metadata": {},
   "outputs": [],
   "source": [
    "total_page_no = math.floor(totalcount/1000) + 1\n",
    "total_page_no"
   ]
  },
  {
   "cell_type": "code",
   "execution_count": null,
   "id": "8811e5aa",
   "metadata": {},
   "outputs": [],
   "source": [
    "public_park = pd.DataFrame(data['response']['body']['items'])\n",
    "public_park"
   ]
  },
  {
   "cell_type": "code",
   "execution_count": null,
   "id": "119f5a57",
   "metadata": {},
   "outputs": [],
   "source": [
    "import time\n",
    "\n",
    "# 실행 전 시간 기록\n",
    "start_time = time.time()\n",
    "\n",
    "total = pd.DataFream()\n",
    "\n",
    "for i in range(total_page_no):\n",
    "    # 요청변수 파라미터 설정\n",
    "    params = \"?\" + \\\n",
    "        \"serviceKey=\" + api_key + \"&\" + \\\n",
    "        \"pageNo=\" + str(i) + \"&\" + \\\n",
    "        \"numOfRows=\" + \"1000\" + \"&\" + \\\n",
    "        \"type=\" + \"json\"\n",
    "    \n",
    "    response = urllib.request.urlopen(url + params)\n",
    "    response_message = response.read().decode('utf8')\n",
    "\n",
    "    data = json.loads(response_message)\n",
    "    \n",
    "    public_park = pd.DataFrame(data['response']['body']['items'])\n",
    "    \n",
    "    total = pd.concat([total, public_park])\n",
    "    \n",
    "columns =['관리번호','공원명','공원구분','소재지도로명주소','소재지지번주소','위도','경도','공원면적','공원보유시설(운동시설)',\n",
    "          '공원보유시설(유희시설)','공원보유시설(편익시설)','공원보유시설(교양시설)','공원보유시설(기타시설)','지정고시일',\n",
    "          '관리기관명','전화번호','데이터기준일자','제공기관코드'\n",
    "]\n",
    "\n",
    "total.columns = columns\n",
    "total"
   ]
  }
 ],
 "metadata": {
  "kernelspec": {
   "display_name": "Python 3 (ipykernel)",
   "language": "python",
   "name": "python3"
  },
  "language_info": {
   "codemirror_mode": {
    "name": "ipython",
    "version": 3
   },
   "file_extension": ".py",
   "mimetype": "text/x-python",
   "name": "python",
   "nbconvert_exporter": "python",
   "pygments_lexer": "ipython3",
   "version": "3.9.7"
  }
 },
 "nbformat": 4,
 "nbformat_minor": 5
}
